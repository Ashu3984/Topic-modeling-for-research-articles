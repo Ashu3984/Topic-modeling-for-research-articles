{
 "cells": [
  {
   "cell_type": "code",
   "execution_count": 1,
   "id": "528f13e1",
   "metadata": {
    "_cell_guid": "b1076dfc-b9ad-4769-8c92-a6c4dae69d19",
    "_uuid": "8f2839f25d086af736a60e9eeb907d3b93b6e0e5",
    "execution": {
     "iopub.execute_input": "2023-08-02T09:00:38.338490Z",
     "iopub.status.busy": "2023-08-02T09:00:38.338054Z",
     "iopub.status.idle": "2023-08-02T09:00:38.359653Z",
     "shell.execute_reply": "2023-08-02T09:00:38.358218Z"
    },
    "papermill": {
     "duration": 0.03468,
     "end_time": "2023-08-02T09:00:38.361974",
     "exception": false,
     "start_time": "2023-08-02T09:00:38.327294",
     "status": "completed"
    },
    "tags": []
   },
   "outputs": [
    {
     "name": "stdout",
     "output_type": "stream",
     "text": [
      "/kaggle/input/topic-modeling-for-research-articles/train.csv\n",
      "/kaggle/input/topic-modeling-for-research-articles/test.csv\n"
     ]
    }
   ],
   "source": [
    "# This Python 3 environment comes with many helpful analytics libraries installed\n",
    "# It is defined by the kaggle/python Docker image: https://github.com/kaggle/docker-python\n",
    "# For example, here's several helpful packages to load\n",
    "\n",
    "import numpy as np # linear algebra\n",
    "import pandas as pd # data processing, CSV file I/O (e.g. pd.read_csv)\n",
    "\n",
    "# Input data files are available in the read-only \"../input/\" directory\n",
    "# For example, running this (by clicking run or pressing Shift+Enter) will list all files under the input directory\n",
    "\n",
    "import os\n",
    "for dirname, _, filenames in os.walk('/kaggle/input'):\n",
    "    for filename in filenames:\n",
    "        print(os.path.join(dirname, filename))\n",
    "\n",
    "# You can write up to 20GB to the current directory (/kaggle/working/) that gets preserved as output when you create a version using \"Save & Run All\" \n",
    "# You can also write temporary files to /kaggle/temp/, but they won't be saved outside of the current session"
   ]
  },
  {
   "cell_type": "code",
   "execution_count": 2,
   "id": "052b5dd5",
   "metadata": {
    "execution": {
     "iopub.execute_input": "2023-08-02T09:00:38.382848Z",
     "iopub.status.busy": "2023-08-02T09:00:38.382527Z",
     "iopub.status.idle": "2023-08-02T09:00:39.128279Z",
     "shell.execute_reply": "2023-08-02T09:00:39.127303Z"
    },
    "papermill": {
     "duration": 0.75941,
     "end_time": "2023-08-02T09:00:39.131230",
     "exception": false,
     "start_time": "2023-08-02T09:00:38.371820",
     "status": "completed"
    },
    "tags": []
   },
   "outputs": [],
   "source": [
    "import pandas as pd\n",
    "train = pd.read_csv(\"/kaggle/input/topic-modeling-for-research-articles/train.csv\")\n",
    "test = pd.read_csv(\"/kaggle/input/topic-modeling-for-research-articles/test.csv\")"
   ]
  },
  {
   "cell_type": "code",
   "execution_count": 3,
   "id": "9b3958b3",
   "metadata": {
    "execution": {
     "iopub.execute_input": "2023-08-02T09:00:39.151930Z",
     "iopub.status.busy": "2023-08-02T09:00:39.151634Z",
     "iopub.status.idle": "2023-08-02T09:00:39.158168Z",
     "shell.execute_reply": "2023-08-02T09:00:39.157350Z"
    },
    "papermill": {
     "duration": 0.019543,
     "end_time": "2023-08-02T09:00:39.160288",
     "exception": false,
     "start_time": "2023-08-02T09:00:39.140745",
     "status": "completed"
    },
    "tags": []
   },
   "outputs": [
    {
     "data": {
      "text/plain": [
       "(20972, 9)"
      ]
     },
     "execution_count": 3,
     "metadata": {},
     "output_type": "execute_result"
    }
   ],
   "source": [
    "train.shape"
   ]
  },
  {
   "cell_type": "code",
   "execution_count": 4,
   "id": "e12b994e",
   "metadata": {
    "execution": {
     "iopub.execute_input": "2023-08-02T09:00:39.179657Z",
     "iopub.status.busy": "2023-08-02T09:00:39.179317Z",
     "iopub.status.idle": "2023-08-02T09:00:39.204122Z",
     "shell.execute_reply": "2023-08-02T09:00:39.202999Z"
    },
    "papermill": {
     "duration": 0.037224,
     "end_time": "2023-08-02T09:00:39.206651",
     "exception": false,
     "start_time": "2023-08-02T09:00:39.169427",
     "status": "completed"
    },
    "tags": []
   },
   "outputs": [
    {
     "data": {
      "text/html": [
       "<div>\n",
       "<style scoped>\n",
       "    .dataframe tbody tr th:only-of-type {\n",
       "        vertical-align: middle;\n",
       "    }\n",
       "\n",
       "    .dataframe tbody tr th {\n",
       "        vertical-align: top;\n",
       "    }\n",
       "\n",
       "    .dataframe thead th {\n",
       "        text-align: right;\n",
       "    }\n",
       "</style>\n",
       "<table border=\"1\" class=\"dataframe\">\n",
       "  <thead>\n",
       "    <tr style=\"text-align: right;\">\n",
       "      <th></th>\n",
       "      <th>ID</th>\n",
       "      <th>TITLE</th>\n",
       "      <th>ABSTRACT</th>\n",
       "      <th>Computer Science</th>\n",
       "      <th>Physics</th>\n",
       "      <th>Mathematics</th>\n",
       "      <th>Statistics</th>\n",
       "      <th>Quantitative Biology</th>\n",
       "      <th>Quantitative Finance</th>\n",
       "    </tr>\n",
       "  </thead>\n",
       "  <tbody>\n",
       "    <tr>\n",
       "      <th>15696</th>\n",
       "      <td>15697</td>\n",
       "      <td>Competition between disorder and interaction e...</td>\n",
       "      <td>We investigate the low-energy scaling behavi...</td>\n",
       "      <td>0</td>\n",
       "      <td>1</td>\n",
       "      <td>0</td>\n",
       "      <td>0</td>\n",
       "      <td>0</td>\n",
       "      <td>0</td>\n",
       "    </tr>\n",
       "    <tr>\n",
       "      <th>5092</th>\n",
       "      <td>5093</td>\n",
       "      <td>Deep Graph Infomax</td>\n",
       "      <td>We present Deep Graph Infomax (DGI), a gener...</td>\n",
       "      <td>1</td>\n",
       "      <td>0</td>\n",
       "      <td>0</td>\n",
       "      <td>1</td>\n",
       "      <td>0</td>\n",
       "      <td>0</td>\n",
       "    </tr>\n",
       "    <tr>\n",
       "      <th>4000</th>\n",
       "      <td>4001</td>\n",
       "      <td>Doubly autoparallel structure on the probabili...</td>\n",
       "      <td>On the probability simplex, we can consider ...</td>\n",
       "      <td>0</td>\n",
       "      <td>0</td>\n",
       "      <td>1</td>\n",
       "      <td>0</td>\n",
       "      <td>0</td>\n",
       "      <td>0</td>\n",
       "    </tr>\n",
       "    <tr>\n",
       "      <th>9021</th>\n",
       "      <td>9022</td>\n",
       "      <td>Resonant inelastic x-ray scattering probes the...</td>\n",
       "      <td>Resonant inelastic x-ray scattering at the N...</td>\n",
       "      <td>0</td>\n",
       "      <td>1</td>\n",
       "      <td>0</td>\n",
       "      <td>0</td>\n",
       "      <td>0</td>\n",
       "      <td>0</td>\n",
       "    </tr>\n",
       "    <tr>\n",
       "      <th>20218</th>\n",
       "      <td>20219</td>\n",
       "      <td>Hardy Spaces over Half-strip Domains</td>\n",
       "      <td>We define Hardy spaces $H^p(\\Omega_\\pm)$ on ...</td>\n",
       "      <td>0</td>\n",
       "      <td>0</td>\n",
       "      <td>1</td>\n",
       "      <td>0</td>\n",
       "      <td>0</td>\n",
       "      <td>0</td>\n",
       "    </tr>\n",
       "  </tbody>\n",
       "</table>\n",
       "</div>"
      ],
      "text/plain": [
       "          ID                                              TITLE  \\\n",
       "15696  15697  Competition between disorder and interaction e...   \n",
       "5092    5093                                 Deep Graph Infomax   \n",
       "4000    4001  Doubly autoparallel structure on the probabili...   \n",
       "9021    9022  Resonant inelastic x-ray scattering probes the...   \n",
       "20218  20219               Hardy Spaces over Half-strip Domains   \n",
       "\n",
       "                                                ABSTRACT  Computer Science  \\\n",
       "15696    We investigate the low-energy scaling behavi...                 0   \n",
       "5092     We present Deep Graph Infomax (DGI), a gener...                 1   \n",
       "4000     On the probability simplex, we can consider ...                 0   \n",
       "9021     Resonant inelastic x-ray scattering at the N...                 0   \n",
       "20218    We define Hardy spaces $H^p(\\Omega_\\pm)$ on ...                 0   \n",
       "\n",
       "       Physics  Mathematics  Statistics  Quantitative Biology  \\\n",
       "15696        1            0           0                     0   \n",
       "5092         0            0           1                     0   \n",
       "4000         0            1           0                     0   \n",
       "9021         1            0           0                     0   \n",
       "20218        0            1           0                     0   \n",
       "\n",
       "       Quantitative Finance  \n",
       "15696                     0  \n",
       "5092                      0  \n",
       "4000                      0  \n",
       "9021                      0  \n",
       "20218                     0  "
      ]
     },
     "execution_count": 4,
     "metadata": {},
     "output_type": "execute_result"
    }
   ],
   "source": [
    "train.sample(5)"
   ]
  },
  {
   "cell_type": "code",
   "execution_count": 5,
   "id": "a9a7e5e8",
   "metadata": {
    "execution": {
     "iopub.execute_input": "2023-08-02T09:00:39.227099Z",
     "iopub.status.busy": "2023-08-02T09:00:39.226834Z",
     "iopub.status.idle": "2023-08-02T09:00:39.252129Z",
     "shell.execute_reply": "2023-08-02T09:00:39.251182Z"
    },
    "papermill": {
     "duration": 0.03769,
     "end_time": "2023-08-02T09:00:39.254282",
     "exception": false,
     "start_time": "2023-08-02T09:00:39.216592",
     "status": "completed"
    },
    "tags": []
   },
   "outputs": [],
   "source": [
    "text = train['TITLE']+train['ABSTRACT']"
   ]
  },
  {
   "cell_type": "code",
   "execution_count": 6,
   "id": "43929229",
   "metadata": {
    "execution": {
     "iopub.execute_input": "2023-08-02T09:00:39.274604Z",
     "iopub.status.busy": "2023-08-02T09:00:39.274307Z",
     "iopub.status.idle": "2023-08-02T09:00:40.335680Z",
     "shell.execute_reply": "2023-08-02T09:00:40.334684Z"
    },
    "papermill": {
     "duration": 1.074465,
     "end_time": "2023-08-02T09:00:40.338444",
     "exception": false,
     "start_time": "2023-08-02T09:00:39.263979",
     "status": "completed"
    },
    "tags": []
   },
   "outputs": [
    {
     "name": "stderr",
     "output_type": "stream",
     "text": [
      "/opt/conda/lib/python3.10/site-packages/scipy/__init__.py:146: UserWarning: A NumPy version >=1.16.5 and <1.23.0 is required for this version of SciPy (detected version 1.23.5\n",
      "  warnings.warn(f\"A NumPy version >={np_minversion} and <{np_maxversion}\"\n"
     ]
    }
   ],
   "source": [
    "import gensim\n",
    "from gensim.models import Phrases\n",
    "from gensim.models.phrases import Phraser\n",
    "from gensim import models"
   ]
  },
  {
   "cell_type": "code",
   "execution_count": 7,
   "id": "43073740",
   "metadata": {
    "execution": {
     "iopub.execute_input": "2023-08-02T09:00:40.359145Z",
     "iopub.status.busy": "2023-08-02T09:00:40.358796Z",
     "iopub.status.idle": "2023-08-02T09:00:41.210406Z",
     "shell.execute_reply": "2023-08-02T09:00:41.208378Z"
    },
    "papermill": {
     "duration": 0.864166,
     "end_time": "2023-08-02T09:00:41.212555",
     "exception": false,
     "start_time": "2023-08-02T09:00:40.348389",
     "status": "completed"
    },
    "tags": []
   },
   "outputs": [
    {
     "name": "stdout",
     "output_type": "stream",
     "text": [
      "[nltk_data] Downloading package stopwords to /usr/share/nltk_data...\n",
      "[nltk_data]   Package stopwords is already up-to-date!\n",
      "[nltk_data] Downloading package punkt to /usr/share/nltk_data...\n",
      "[nltk_data]   Package punkt is already up-to-date!\n"
     ]
    },
    {
     "data": {
      "text/plain": [
       "True"
      ]
     },
     "execution_count": 7,
     "metadata": {},
     "output_type": "execute_result"
    }
   ],
   "source": [
    "import nltk\n",
    "nltk.download(\"stopwords\")\n",
    "nltk.download(\"punkt\")"
   ]
  },
  {
   "cell_type": "code",
   "execution_count": 8,
   "id": "d91279f3",
   "metadata": {
    "execution": {
     "iopub.execute_input": "2023-08-02T09:00:41.233767Z",
     "iopub.status.busy": "2023-08-02T09:00:41.232950Z",
     "iopub.status.idle": "2023-08-02T09:00:41.237908Z",
     "shell.execute_reply": "2023-08-02T09:00:41.236961Z"
    },
    "papermill": {
     "duration": 0.01763,
     "end_time": "2023-08-02T09:00:41.240011",
     "exception": false,
     "start_time": "2023-08-02T09:00:41.222381",
     "status": "completed"
    },
    "tags": []
   },
   "outputs": [],
   "source": [
    "import re\n",
    "from nltk.corpus import stopwords\n",
    "from nltk.tokenize import word_tokenize"
   ]
  },
  {
   "cell_type": "code",
   "execution_count": 9,
   "id": "b75ba118",
   "metadata": {
    "execution": {
     "iopub.execute_input": "2023-08-02T09:00:41.261147Z",
     "iopub.status.busy": "2023-08-02T09:00:41.260856Z",
     "iopub.status.idle": "2023-08-02T09:00:41.268690Z",
     "shell.execute_reply": "2023-08-02T09:00:41.267846Z"
    },
    "papermill": {
     "duration": 0.02093,
     "end_time": "2023-08-02T09:00:41.270885",
     "exception": false,
     "start_time": "2023-08-02T09:00:41.249955",
     "status": "completed"
    },
    "tags": []
   },
   "outputs": [],
   "source": [
    "def text_process(text):\n",
    "    text = text.lower()\n",
    "    text = re.sub('[^A-Za-z]', ' ',text)\n",
    "    text = re.sub(r'[^\\w\\s]', ' ', text)\n",
    "    text = re.sub(r'#\\w+|\\@\\w+', ' ', text)\n",
    "    text = re.sub(r'http\\S+|www\\S+|https\\S+', ' ', text, flags=re.MULTILINE)\n",
    "    words = word_tokenize(text)\n",
    "    \n",
    "    stop_words = set(stopwords.words('english'))\n",
    "    words = [word for word in words if word not in stop_words]\n",
    "    \n",
    "    processed_text = ' '.join(words)\n",
    "\n",
    "    return processed_text"
   ]
  },
  {
   "cell_type": "code",
   "execution_count": 10,
   "id": "e9d053fb",
   "metadata": {
    "execution": {
     "iopub.execute_input": "2023-08-02T09:00:41.291898Z",
     "iopub.status.busy": "2023-08-02T09:00:41.290514Z",
     "iopub.status.idle": "2023-08-02T09:01:23.569730Z",
     "shell.execute_reply": "2023-08-02T09:01:23.568689Z"
    },
    "papermill": {
     "duration": 42.292301,
     "end_time": "2023-08-02T09:01:23.572546",
     "exception": false,
     "start_time": "2023-08-02T09:00:41.280245",
     "status": "completed"
    },
    "tags": []
   },
   "outputs": [],
   "source": [
    "cleaned_text = text.map(text_process)"
   ]
  },
  {
   "cell_type": "code",
   "execution_count": 11,
   "id": "841102ad",
   "metadata": {
    "execution": {
     "iopub.execute_input": "2023-08-02T09:01:23.594341Z",
     "iopub.status.busy": "2023-08-02T09:01:23.594021Z",
     "iopub.status.idle": "2023-08-02T09:01:23.600295Z",
     "shell.execute_reply": "2023-08-02T09:01:23.599272Z"
    },
    "papermill": {
     "duration": 0.020568,
     "end_time": "2023-08-02T09:01:23.603807",
     "exception": false,
     "start_time": "2023-08-02T09:01:23.583239",
     "status": "completed"
    },
    "tags": []
   },
   "outputs": [
    {
     "data": {
      "text/plain": [
       "\"Reconstructing Subject-Specific Effect Maps  Predictive models allow subject-specific inference when analyzing disease\\nrelated alterations in neuroimaging data. Given a subject's data, inference can\\nbe made at two levels: global, i.e. identifiying condition presence for the\\nsubject, and local, i.e. detecting condition effect on each individual\\nmeasurement extracted from the subject's data. While global inference is widely\\nused, local inference, which can be used to form subject-specific effect maps,\\nis rarely used because existing models often yield noisy detections composed of\\ndispersed isolated islands. In this article, we propose a reconstruction\\nmethod, named RSM, to improve subject-specific detections of predictive\\nmodeling approaches and in particular, binary classifiers. RSM specifically\\naims to reduce noise due to sampling error associated with using a finite\\nsample of examples to train classifiers. The proposed method is a wrapper-type\\nalgorithm that can be used with different binary classifiers in a diagnostic\\nmanner, i.e. without information on condition presence. Reconstruction is posed\\nas a Maximum-A-Posteriori problem with a prior model whose parameters are\\nestimated from training data in a classifier-specific fashion. Experimental\\nevaluation is performed on synthetically generated data and data from the\\nAlzheimer's Disease Neuroimaging Initiative (ADNI) database. Results on\\nsynthetic data demonstrate that using RSM yields higher detection accuracy\\ncompared to using models directly or with bootstrap averaging. Analyses on the\\nADNI dataset show that RSM can also improve correlation between\\nsubject-specific detections in cortical thickness data and non-imaging markers\\nof Alzheimer's Disease (AD), such as the Mini Mental State Examination Score\\nand Cerebrospinal Fluid amyloid-$\\\\beta$ levels. Further reliability studies on\\nthe longitudinal ADNI dataset show improvement on detection reliability when\\nRSM is used.\\n\""
      ]
     },
     "execution_count": 11,
     "metadata": {},
     "output_type": "execute_result"
    }
   ],
   "source": [
    "text[0]"
   ]
  },
  {
   "cell_type": "code",
   "execution_count": 12,
   "id": "dfdad4ce",
   "metadata": {
    "execution": {
     "iopub.execute_input": "2023-08-02T09:01:23.624602Z",
     "iopub.status.busy": "2023-08-02T09:01:23.623941Z",
     "iopub.status.idle": "2023-08-02T09:01:23.630433Z",
     "shell.execute_reply": "2023-08-02T09:01:23.629489Z"
    },
    "papermill": {
     "duration": 0.019056,
     "end_time": "2023-08-02T09:01:23.632403",
     "exception": false,
     "start_time": "2023-08-02T09:01:23.613347",
     "status": "completed"
    },
    "tags": []
   },
   "outputs": [
    {
     "data": {
      "text/plain": [
       "'reconstructing subject specific effect maps predictive models allow subject specific inference analyzing disease related alterations neuroimaging data given subject data inference made two levels global e identifiying condition presence subject local e detecting condition effect individual measurement extracted subject data global inference widely used local inference used form subject specific effect maps rarely used existing models often yield noisy detections composed dispersed isolated islands article propose reconstruction method named rsm improve subject specific detections predictive modeling approaches particular binary classifiers rsm specifically aims reduce noise due sampling error associated using finite sample examples train classifiers proposed method wrapper type algorithm used different binary classifiers diagnostic manner e without information condition presence reconstruction posed maximum posteriori problem prior model whose parameters estimated training data classifier specific fashion experimental evaluation performed synthetically generated data data alzheimer disease neuroimaging initiative adni database results synthetic data demonstrate using rsm yields higher detection accuracy compared using models directly bootstrap averaging analyses adni dataset show rsm also improve correlation subject specific detections cortical thickness data non imaging markers alzheimer disease ad mini mental state examination score cerebrospinal fluid amyloid beta levels reliability studies longitudinal adni dataset show improvement detection reliability rsm used'"
      ]
     },
     "execution_count": 12,
     "metadata": {},
     "output_type": "execute_result"
    }
   ],
   "source": [
    "cleaned_text[0]"
   ]
  },
  {
   "cell_type": "code",
   "execution_count": 13,
   "id": "7172157d",
   "metadata": {
    "execution": {
     "iopub.execute_input": "2023-08-02T09:01:23.654632Z",
     "iopub.status.busy": "2023-08-02T09:01:23.653641Z",
     "iopub.status.idle": "2023-08-02T09:01:23.917198Z",
     "shell.execute_reply": "2023-08-02T09:01:23.916180Z"
    },
    "papermill": {
     "duration": 0.277113,
     "end_time": "2023-08-02T09:01:23.919729",
     "exception": false,
     "start_time": "2023-08-02T09:01:23.642616",
     "status": "completed"
    },
    "tags": []
   },
   "outputs": [],
   "source": [
    "words = [x.split() for x in cleaned_text]"
   ]
  },
  {
   "cell_type": "code",
   "execution_count": 14,
   "id": "d7881e94",
   "metadata": {
    "execution": {
     "iopub.execute_input": "2023-08-02T09:01:23.942953Z",
     "iopub.status.busy": "2023-08-02T09:01:23.942584Z",
     "iopub.status.idle": "2023-08-02T09:01:23.950207Z",
     "shell.execute_reply": "2023-08-02T09:01:23.949095Z"
    },
    "papermill": {
     "duration": 0.023194,
     "end_time": "2023-08-02T09:01:23.953622",
     "exception": false,
     "start_time": "2023-08-02T09:01:23.930428",
     "status": "completed"
    },
    "tags": []
   },
   "outputs": [
    {
     "data": {
      "text/plain": [
       "20972"
      ]
     },
     "execution_count": 14,
     "metadata": {},
     "output_type": "execute_result"
    }
   ],
   "source": [
    "len(words)"
   ]
  },
  {
   "cell_type": "code",
   "execution_count": 15,
   "id": "dc28557a",
   "metadata": {
    "execution": {
     "iopub.execute_input": "2023-08-02T09:01:23.975311Z",
     "iopub.status.busy": "2023-08-02T09:01:23.974462Z",
     "iopub.status.idle": "2023-08-02T09:01:40.114426Z",
     "shell.execute_reply": "2023-08-02T09:01:40.113274Z"
    },
    "papermill": {
     "duration": 16.153819,
     "end_time": "2023-08-02T09:01:40.117435",
     "exception": false,
     "start_time": "2023-08-02T09:01:23.963616",
     "status": "completed"
    },
    "tags": []
   },
   "outputs": [
    {
     "name": "stderr",
     "output_type": "stream",
     "text": [
      "/opt/conda/lib/python3.10/site-packages/tensorflow_io/python/ops/__init__.py:98: UserWarning: unable to load libtensorflow_io_plugins.so: unable to open file: libtensorflow_io_plugins.so, from paths: ['/opt/conda/lib/python3.10/site-packages/tensorflow_io/python/ops/libtensorflow_io_plugins.so']\n",
      "caused by: ['/opt/conda/lib/python3.10/site-packages/tensorflow_io/python/ops/libtensorflow_io_plugins.so: undefined symbol: _ZN3tsl6StatusC1EN10tensorflow5error4CodeESt17basic_string_viewIcSt11char_traitsIcEENS_14SourceLocationE']\n",
      "  warnings.warn(f\"unable to load libtensorflow_io_plugins.so: {e}\")\n",
      "/opt/conda/lib/python3.10/site-packages/tensorflow_io/python/ops/__init__.py:104: UserWarning: file system plugins are not loaded: unable to open file: libtensorflow_io.so, from paths: ['/opt/conda/lib/python3.10/site-packages/tensorflow_io/python/ops/libtensorflow_io.so']\n",
      "caused by: ['/opt/conda/lib/python3.10/site-packages/tensorflow_io/python/ops/libtensorflow_io.so: undefined symbol: _ZTVN10tensorflow13GcsFileSystemE']\n",
      "  warnings.warn(f\"file system plugins are not loaded: {e}\")\n"
     ]
    }
   ],
   "source": [
    "import spacy\n",
    "nlp = spacy.load('en_core_web_sm',disable=['parser','ner'])"
   ]
  },
  {
   "cell_type": "code",
   "execution_count": 16,
   "id": "3068e9a4",
   "metadata": {
    "execution": {
     "iopub.execute_input": "2023-08-02T09:01:40.139403Z",
     "iopub.status.busy": "2023-08-02T09:01:40.138772Z",
     "iopub.status.idle": "2023-08-02T09:01:40.146375Z",
     "shell.execute_reply": "2023-08-02T09:01:40.145363Z"
    },
    "papermill": {
     "duration": 0.022005,
     "end_time": "2023-08-02T09:01:40.149682",
     "exception": false,
     "start_time": "2023-08-02T09:01:40.127677",
     "status": "completed"
    },
    "tags": []
   },
   "outputs": [
    {
     "data": {
      "text/plain": [
       "['rotation',\n",
       " 'invariance',\n",
       " 'neural',\n",
       " 'network',\n",
       " 'rotation',\n",
       " 'invariance',\n",
       " 'translation',\n",
       " 'invariance',\n",
       " 'great',\n",
       " 'values',\n",
       " 'image',\n",
       " 'recognition',\n",
       " 'tasks',\n",
       " 'paper',\n",
       " 'bring',\n",
       " 'new',\n",
       " 'architecture',\n",
       " 'convolutional',\n",
       " 'neural',\n",
       " 'network',\n",
       " 'cnn',\n",
       " 'named',\n",
       " 'cyclic',\n",
       " 'convolutional',\n",
       " 'layer',\n",
       " 'achieve',\n",
       " 'rotation',\n",
       " 'invariance',\n",
       " 'symbol',\n",
       " 'recognition',\n",
       " 'also',\n",
       " 'get',\n",
       " 'position',\n",
       " 'orientation',\n",
       " 'symbol',\n",
       " 'network',\n",
       " 'achieve',\n",
       " 'detection',\n",
       " 'purpose',\n",
       " 'multiple',\n",
       " 'non',\n",
       " 'overlap',\n",
       " 'target',\n",
       " 'last',\n",
       " 'least',\n",
       " 'architecture',\n",
       " 'achieve',\n",
       " 'one',\n",
       " 'shot',\n",
       " 'learning',\n",
       " 'cases',\n",
       " 'using',\n",
       " 'invariance']"
      ]
     },
     "execution_count": 16,
     "metadata": {},
     "output_type": "execute_result"
    }
   ],
   "source": [
    "words[1]"
   ]
  },
  {
   "cell_type": "code",
   "execution_count": 17,
   "id": "17e5f662",
   "metadata": {
    "execution": {
     "iopub.execute_input": "2023-08-02T09:01:40.170913Z",
     "iopub.status.busy": "2023-08-02T09:01:40.170642Z",
     "iopub.status.idle": "2023-08-02T09:01:40.234992Z",
     "shell.execute_reply": "2023-08-02T09:01:40.231004Z"
    },
    "papermill": {
     "duration": 0.077346,
     "end_time": "2023-08-02T09:01:40.237096",
     "exception": false,
     "start_time": "2023-08-02T09:01:40.159750",
     "status": "completed"
    },
    "tags": []
   },
   "outputs": [
    {
     "name": "stdout",
     "output_type": "stream",
     "text": [
      "reconstructing --> VERB\n",
      "subject --> ADJ\n",
      "specific --> ADJ\n",
      "effect --> NOUN\n",
      "maps --> NOUN\n",
      "predictive --> ADJ\n",
      "models --> NOUN\n",
      "allow --> VERB\n",
      "subject --> ADJ\n",
      "specific --> ADJ\n",
      "inference --> NOUN\n",
      "analyzing --> NOUN\n",
      "disease --> NOUN\n",
      "related --> VERB\n",
      "alterations --> NOUN\n",
      "neuroimaging --> VERB\n",
      "data --> NOUN\n",
      "given --> VERB\n",
      "subject --> ADJ\n",
      "data --> NOUN\n",
      "inference --> NOUN\n",
      "made --> VERB\n",
      "two --> NUM\n",
      "levels --> NOUN\n",
      "global --> ADJ\n",
      "e --> NOUN\n",
      "identifiying --> VERB\n",
      "condition --> NOUN\n",
      "presence --> NOUN\n",
      "subject --> VERB\n",
      "local --> ADJ\n",
      "e --> NOUN\n",
      "detecting --> VERB\n",
      "condition --> NOUN\n",
      "effect --> NOUN\n",
      "individual --> ADJ\n",
      "measurement --> NOUN\n",
      "extracted --> VERB\n",
      "subject --> ADJ\n",
      "data --> NOUN\n",
      "global --> ADJ\n",
      "inference --> NOUN\n",
      "widely --> ADV\n",
      "used --> VERB\n",
      "local --> ADJ\n",
      "inference --> NOUN\n",
      "used --> VERB\n",
      "form --> NOUN\n",
      "subject --> ADJ\n",
      "specific --> ADJ\n",
      "effect --> NOUN\n",
      "maps --> NOUN\n",
      "rarely --> ADV\n",
      "used --> VERB\n",
      "existing --> VERB\n",
      "models --> NOUN\n",
      "often --> ADV\n",
      "yield --> VERB\n",
      "noisy --> ADJ\n",
      "detections --> NOUN\n",
      "composed --> VERB\n",
      "dispersed --> VERB\n",
      "isolated --> VERB\n",
      "islands --> NOUN\n",
      "article --> NOUN\n",
      "propose --> VERB\n",
      "reconstruction --> NOUN\n",
      "method --> NOUN\n",
      "named --> VERB\n",
      "rsm --> INTJ\n",
      "improve --> VERB\n",
      "subject --> ADJ\n",
      "specific --> ADJ\n",
      "detections --> NOUN\n",
      "predictive --> ADJ\n",
      "modeling --> NOUN\n",
      "approaches --> NOUN\n",
      "particular --> ADJ\n",
      "binary --> ADJ\n",
      "classifiers --> NOUN\n",
      "rsm --> INTJ\n",
      "specifically --> ADV\n",
      "aims --> VERB\n",
      "reduce --> VERB\n",
      "noise --> NOUN\n",
      "due --> ADJ\n",
      "sampling --> VERB\n",
      "error --> NOUN\n",
      "associated --> VERB\n",
      "using --> VERB\n",
      "finite --> ADJ\n",
      "sample --> NOUN\n",
      "examples --> PROPN\n",
      "train --> NOUN\n",
      "classifiers --> NOUN\n",
      "proposed --> VERB\n",
      "method --> NOUN\n",
      "wrapper --> NOUN\n",
      "type --> NOUN\n",
      "algorithm --> PROPN\n",
      "used --> VERB\n",
      "different --> ADJ\n",
      "binary --> ADJ\n",
      "classifiers --> NOUN\n",
      "diagnostic --> ADJ\n",
      "manner --> NOUN\n",
      "e --> NOUN\n",
      "without --> ADP\n",
      "information --> NOUN\n",
      "condition --> NOUN\n",
      "presence --> NOUN\n",
      "reconstruction --> NOUN\n",
      "posed --> VERB\n",
      "maximum --> ADJ\n",
      "posteriori --> NOUN\n",
      "problem --> NOUN\n",
      "prior --> ADJ\n",
      "model --> NOUN\n",
      "whose --> DET\n",
      "parameters --> NOUN\n",
      "estimated --> VERB\n",
      "training --> NOUN\n",
      "data --> NOUN\n",
      "classifier --> ADJ\n",
      "specific --> ADJ\n",
      "fashion --> NOUN\n",
      "experimental --> ADJ\n",
      "evaluation --> NOUN\n",
      "performed --> VERB\n",
      "synthetically --> ADV\n",
      "generated --> VERB\n",
      "data --> NOUN\n",
      "data --> NOUN\n",
      "alzheimer --> NOUN\n",
      "disease --> NOUN\n",
      "neuroimaging --> VERB\n",
      "initiative --> NOUN\n",
      "adni --> NOUN\n",
      "database --> NOUN\n",
      "results --> VERB\n",
      "synthetic --> ADJ\n",
      "data --> NOUN\n",
      "demonstrate --> NOUN\n",
      "using --> VERB\n",
      "rsm --> PROPN\n",
      "yields --> NOUN\n",
      "higher --> ADJ\n",
      "detection --> NOUN\n",
      "accuracy --> NOUN\n",
      "compared --> VERB\n",
      "using --> VERB\n",
      "models --> NOUN\n",
      "directly --> ADV\n",
      "bootstrap --> NOUN\n",
      "averaging --> VERB\n",
      "analyses --> NOUN\n",
      "adni --> NOUN\n",
      "dataset --> NOUN\n",
      "show --> NOUN\n",
      "rsm --> INTJ\n",
      "also --> ADV\n",
      "improve --> VERB\n",
      "correlation --> NOUN\n",
      "subject --> ADJ\n",
      "specific --> ADJ\n",
      "detections --> NOUN\n",
      "cortical --> ADJ\n",
      "thickness --> NOUN\n",
      "data --> NOUN\n",
      "non --> ADJ\n",
      "imaging --> NOUN\n",
      "markers --> NOUN\n",
      "alzheimer --> NOUN\n",
      "disease --> NOUN\n",
      "ad --> X\n",
      "mini --> NOUN\n",
      "mental --> ADJ\n",
      "state --> NOUN\n",
      "examination --> NOUN\n",
      "score --> NOUN\n",
      "cerebrospinal --> ADJ\n",
      "fluid --> NOUN\n",
      "amyloid --> NOUN\n",
      "beta --> NOUN\n",
      "levels --> NOUN\n",
      "reliability --> NOUN\n",
      "studies --> NOUN\n",
      "longitudinal --> ADJ\n",
      "adni --> PROPN\n",
      "dataset --> NOUN\n",
      "show --> NOUN\n",
      "improvement --> NOUN\n",
      "detection --> NOUN\n",
      "reliability --> NOUN\n",
      "rsm --> PROPN\n",
      "used --> VERB\n"
     ]
    }
   ],
   "source": [
    "for i in nlp(' '.join(words[0])):\n",
    "    print(i,'-->',i.pos_)"
   ]
  },
  {
   "cell_type": "code",
   "execution_count": 18,
   "id": "12393128",
   "metadata": {
    "execution": {
     "iopub.execute_input": "2023-08-02T09:01:40.260481Z",
     "iopub.status.busy": "2023-08-02T09:01:40.259755Z",
     "iopub.status.idle": "2023-08-02T09:01:40.266604Z",
     "shell.execute_reply": "2023-08-02T09:01:40.265735Z"
    },
    "papermill": {
     "duration": 0.020527,
     "end_time": "2023-08-02T09:01:40.268724",
     "exception": false,
     "start_time": "2023-08-02T09:01:40.248197",
     "status": "completed"
    },
    "tags": []
   },
   "outputs": [],
   "source": [
    "def lemmatize(bow,tag=['NOUN','PROPN','ADJ','VERB','ADV']):\n",
    "  proper_words=[]\n",
    "  for i in bow:\n",
    "    doc = nlp(' '.join(i))\n",
    "    proper_words.append([token.lemma_ for token in doc if token.pos_ in tag])\n",
    "  return proper_words"
   ]
  },
  {
   "cell_type": "code",
   "execution_count": 19,
   "id": "4c9ecb37",
   "metadata": {
    "execution": {
     "iopub.execute_input": "2023-08-02T09:01:40.291806Z",
     "iopub.status.busy": "2023-08-02T09:01:40.290373Z",
     "iopub.status.idle": "2023-08-02T09:05:13.113690Z",
     "shell.execute_reply": "2023-08-02T09:05:13.112664Z"
    },
    "papermill": {
     "duration": 212.837058,
     "end_time": "2023-08-02T09:05:13.116255",
     "exception": false,
     "start_time": "2023-08-02T09:01:40.279197",
     "status": "completed"
    },
    "tags": []
   },
   "outputs": [],
   "source": [
    "bag_of_words = lemmatize(words)"
   ]
  },
  {
   "cell_type": "code",
   "execution_count": 20,
   "id": "19ff83f4",
   "metadata": {
    "execution": {
     "iopub.execute_input": "2023-08-02T09:05:13.139126Z",
     "iopub.status.busy": "2023-08-02T09:05:13.138827Z",
     "iopub.status.idle": "2023-08-02T09:05:13.149948Z",
     "shell.execute_reply": "2023-08-02T09:05:13.148991Z"
    },
    "papermill": {
     "duration": 0.024657,
     "end_time": "2023-08-02T09:05:13.152152",
     "exception": false,
     "start_time": "2023-08-02T09:05:13.127495",
     "status": "completed"
    },
    "tags": []
   },
   "outputs": [
    {
     "data": {
      "text/plain": [
       "['reconstruct',\n",
       " 'subject',\n",
       " 'specific',\n",
       " 'effect',\n",
       " 'map',\n",
       " 'predictive',\n",
       " 'model',\n",
       " 'allow',\n",
       " 'subject',\n",
       " 'specific',\n",
       " 'inference',\n",
       " 'analyzing',\n",
       " 'disease',\n",
       " 'relate',\n",
       " 'alteration',\n",
       " 'neuroimage',\n",
       " 'datum',\n",
       " 'give',\n",
       " 'subject',\n",
       " 'data',\n",
       " 'inference',\n",
       " 'make',\n",
       " 'level',\n",
       " 'global',\n",
       " 'e',\n",
       " 'identifiye',\n",
       " 'condition',\n",
       " 'presence',\n",
       " 'subject',\n",
       " 'local',\n",
       " 'e',\n",
       " 'detect',\n",
       " 'condition',\n",
       " 'effect',\n",
       " 'individual',\n",
       " 'measurement',\n",
       " 'extract',\n",
       " 'subject',\n",
       " 'datum',\n",
       " 'global',\n",
       " 'inference',\n",
       " 'widely',\n",
       " 'use',\n",
       " 'local',\n",
       " 'inference',\n",
       " 'use',\n",
       " 'form',\n",
       " 'subject',\n",
       " 'specific',\n",
       " 'effect',\n",
       " 'map',\n",
       " 'rarely',\n",
       " 'use',\n",
       " 'exist',\n",
       " 'model',\n",
       " 'often',\n",
       " 'yield',\n",
       " 'noisy',\n",
       " 'detection',\n",
       " 'compose',\n",
       " 'disperse',\n",
       " 'isolate',\n",
       " 'island',\n",
       " 'article',\n",
       " 'propose',\n",
       " 'reconstruction',\n",
       " 'method',\n",
       " 'name',\n",
       " 'improve',\n",
       " 'subject',\n",
       " 'specific',\n",
       " 'detection',\n",
       " 'predictive',\n",
       " 'modeling',\n",
       " 'approach',\n",
       " 'particular',\n",
       " 'binary',\n",
       " 'classifier',\n",
       " 'specifically',\n",
       " 'aim',\n",
       " 'reduce',\n",
       " 'noise',\n",
       " 'due',\n",
       " 'sample',\n",
       " 'error',\n",
       " 'associate',\n",
       " 'use',\n",
       " 'finite',\n",
       " 'sample',\n",
       " 'examples',\n",
       " 'train',\n",
       " 'classifier',\n",
       " 'propose',\n",
       " 'method',\n",
       " 'wrapper',\n",
       " 'type',\n",
       " 'algorithm',\n",
       " 'use',\n",
       " 'different',\n",
       " 'binary',\n",
       " 'classifier',\n",
       " 'diagnostic',\n",
       " 'manner',\n",
       " 'e',\n",
       " 'information',\n",
       " 'condition',\n",
       " 'presence',\n",
       " 'reconstruction',\n",
       " 'pose',\n",
       " 'maximum',\n",
       " 'posteriori',\n",
       " 'problem',\n",
       " 'prior',\n",
       " 'model',\n",
       " 'parameter',\n",
       " 'estimate',\n",
       " 'training',\n",
       " 'datum',\n",
       " 'classifi',\n",
       " 'specific',\n",
       " 'fashion',\n",
       " 'experimental',\n",
       " 'evaluation',\n",
       " 'perform',\n",
       " 'synthetically',\n",
       " 'generate',\n",
       " 'data',\n",
       " 'datum',\n",
       " 'alzheimer',\n",
       " 'disease',\n",
       " 'neuroimage',\n",
       " 'initiative',\n",
       " 'adni',\n",
       " 'database',\n",
       " 'result',\n",
       " 'synthetic',\n",
       " 'datum',\n",
       " 'demonstrate',\n",
       " 'use',\n",
       " 'rsm',\n",
       " 'yield',\n",
       " 'high',\n",
       " 'detection',\n",
       " 'accuracy',\n",
       " 'compare',\n",
       " 'use',\n",
       " 'model',\n",
       " 'directly',\n",
       " 'bootstrap',\n",
       " 'average',\n",
       " 'analysis',\n",
       " 'adni',\n",
       " 'dataset',\n",
       " 'show',\n",
       " 'also',\n",
       " 'improve',\n",
       " 'correlation',\n",
       " 'subject',\n",
       " 'specific',\n",
       " 'detection',\n",
       " 'cortical',\n",
       " 'thickness',\n",
       " 'datum',\n",
       " 'non',\n",
       " 'imaging',\n",
       " 'marker',\n",
       " 'alzheimer',\n",
       " 'disease',\n",
       " 'mini',\n",
       " 'mental',\n",
       " 'state',\n",
       " 'examination',\n",
       " 'score',\n",
       " 'cerebrospinal',\n",
       " 'fluid',\n",
       " 'amyloid',\n",
       " 'beta',\n",
       " 'level',\n",
       " 'reliability',\n",
       " 'study',\n",
       " 'longitudinal',\n",
       " 'adni',\n",
       " 'dataset',\n",
       " 'show',\n",
       " 'improvement',\n",
       " 'detection',\n",
       " 'reliability',\n",
       " 'rsm',\n",
       " 'use']"
      ]
     },
     "execution_count": 20,
     "metadata": {},
     "output_type": "execute_result"
    }
   ],
   "source": [
    "bag_of_words[0]"
   ]
  },
  {
   "cell_type": "code",
   "execution_count": 21,
   "id": "bbf4b517",
   "metadata": {
    "execution": {
     "iopub.execute_input": "2023-08-02T09:05:13.174903Z",
     "iopub.status.busy": "2023-08-02T09:05:13.174585Z",
     "iopub.status.idle": "2023-08-02T09:05:15.779563Z",
     "shell.execute_reply": "2023-08-02T09:05:15.778566Z"
    },
    "papermill": {
     "duration": 2.618958,
     "end_time": "2023-08-02T09:05:15.781955",
     "exception": false,
     "start_time": "2023-08-02T09:05:13.162997",
     "status": "completed"
    },
    "tags": []
   },
   "outputs": [],
   "source": [
    "from gensim import corpora\n",
    "id2word = corpora.Dictionary(bag_of_words)"
   ]
  },
  {
   "cell_type": "code",
   "execution_count": 22,
   "id": "0fc27f84",
   "metadata": {
    "execution": {
     "iopub.execute_input": "2023-08-02T09:05:15.805186Z",
     "iopub.status.busy": "2023-08-02T09:05:15.804902Z",
     "iopub.status.idle": "2023-08-02T09:05:17.280586Z",
     "shell.execute_reply": "2023-08-02T09:05:17.279567Z"
    },
    "papermill": {
     "duration": 1.490153,
     "end_time": "2023-08-02T09:05:17.283275",
     "exception": false,
     "start_time": "2023-08-02T09:05:15.793122",
     "status": "completed"
    },
    "tags": []
   },
   "outputs": [],
   "source": [
    "corpus = [id2word.doc2bow(sen) for sen in bag_of_words]"
   ]
  },
  {
   "cell_type": "code",
   "execution_count": 23,
   "id": "34a505a6",
   "metadata": {
    "execution": {
     "iopub.execute_input": "2023-08-02T09:05:17.306983Z",
     "iopub.status.busy": "2023-08-02T09:05:17.306655Z",
     "iopub.status.idle": "2023-08-02T09:05:17.320342Z",
     "shell.execute_reply": "2023-08-02T09:05:17.319387Z"
    },
    "papermill": {
     "duration": 0.028146,
     "end_time": "2023-08-02T09:05:17.322393",
     "exception": false,
     "start_time": "2023-08-02T09:05:17.294247",
     "status": "completed"
    },
    "tags": []
   },
   "outputs": [
    {
     "data": {
      "text/plain": [
       "[(0, 1),\n",
       " (1, 3),\n",
       " (2, 1),\n",
       " (3, 1),\n",
       " (4, 1),\n",
       " (5, 1),\n",
       " (6, 1),\n",
       " (7, 2),\n",
       " (8, 1),\n",
       " (9, 1),\n",
       " (10, 1),\n",
       " (11, 1),\n",
       " (12, 1),\n",
       " (13, 1),\n",
       " (14, 1),\n",
       " (15, 1),\n",
       " (16, 2),\n",
       " (17, 1),\n",
       " (18, 1),\n",
       " (19, 1),\n",
       " (20, 3),\n",
       " (21, 1),\n",
       " (22, 1),\n",
       " (23, 3),\n",
       " (24, 1),\n",
       " (25, 1),\n",
       " (26, 2),\n",
       " (27, 1),\n",
       " (28, 2),\n",
       " (29, 6),\n",
       " (30, 1),\n",
       " (31, 1),\n",
       " (32, 5),\n",
       " (33, 1),\n",
       " (34, 1),\n",
       " (35, 1),\n",
       " (36, 3),\n",
       " (37, 1),\n",
       " (38, 1),\n",
       " (39, 3),\n",
       " (40, 3),\n",
       " (41, 1),\n",
       " (42, 1),\n",
       " (43, 1),\n",
       " (44, 1),\n",
       " (45, 1),\n",
       " (46, 1),\n",
       " (47, 1),\n",
       " (48, 1),\n",
       " (49, 1),\n",
       " (50, 1),\n",
       " (51, 1),\n",
       " (52, 1),\n",
       " (53, 1),\n",
       " (54, 1),\n",
       " (55, 2),\n",
       " (56, 1),\n",
       " (57, 1),\n",
       " (58, 1),\n",
       " (59, 2),\n",
       " (60, 1),\n",
       " (61, 1),\n",
       " (62, 4),\n",
       " (63, 1),\n",
       " (64, 1),\n",
       " (65, 1),\n",
       " (66, 1),\n",
       " (67, 2),\n",
       " (68, 2),\n",
       " (69, 1),\n",
       " (70, 1),\n",
       " (71, 1),\n",
       " (72, 2),\n",
       " (73, 1),\n",
       " (74, 1),\n",
       " (75, 1),\n",
       " (76, 1),\n",
       " (77, 2),\n",
       " (78, 1),\n",
       " (79, 4),\n",
       " (80, 1),\n",
       " (81, 1),\n",
       " (82, 2),\n",
       " (83, 1),\n",
       " (84, 1),\n",
       " (85, 1),\n",
       " (86, 1),\n",
       " (87, 1),\n",
       " (88, 1),\n",
       " (89, 1),\n",
       " (90, 1),\n",
       " (91, 1),\n",
       " (92, 2),\n",
       " (93, 2),\n",
       " (94, 1),\n",
       " (95, 1),\n",
       " (96, 2),\n",
       " (97, 1),\n",
       " (98, 1),\n",
       " (99, 2),\n",
       " (100, 1),\n",
       " (101, 1),\n",
       " (102, 2),\n",
       " (103, 1),\n",
       " (104, 2),\n",
       " (105, 2),\n",
       " (106, 1),\n",
       " (107, 2),\n",
       " (108, 6),\n",
       " (109, 1),\n",
       " (110, 1),\n",
       " (111, 1),\n",
       " (112, 8),\n",
       " (113, 1),\n",
       " (114, 1),\n",
       " (115, 1),\n",
       " (116, 1),\n",
       " (117, 1),\n",
       " (118, 1),\n",
       " (119, 8),\n",
       " (120, 1),\n",
       " (121, 1),\n",
       " (122, 2)]"
      ]
     },
     "execution_count": 23,
     "metadata": {},
     "output_type": "execute_result"
    }
   ],
   "source": [
    "corpus[0]"
   ]
  },
  {
   "cell_type": "code",
   "execution_count": 24,
   "id": "5857b3da",
   "metadata": {
    "execution": {
     "iopub.execute_input": "2023-08-02T09:05:17.347001Z",
     "iopub.status.busy": "2023-08-02T09:05:17.345518Z",
     "iopub.status.idle": "2023-08-02T09:05:17.350416Z",
     "shell.execute_reply": "2023-08-02T09:05:17.349561Z"
    },
    "papermill": {
     "duration": 0.018538,
     "end_time": "2023-08-02T09:05:17.352498",
     "exception": false,
     "start_time": "2023-08-02T09:05:17.333960",
     "status": "completed"
    },
    "tags": []
   },
   "outputs": [],
   "source": [
    "LDA = gensim.models.ldamodel.LdaModel"
   ]
  },
  {
   "cell_type": "code",
   "execution_count": 25,
   "id": "2ea59bd7",
   "metadata": {
    "execution": {
     "iopub.execute_input": "2023-08-02T09:05:17.375947Z",
     "iopub.status.busy": "2023-08-02T09:05:17.375145Z",
     "iopub.status.idle": "2023-08-02T09:06:47.415707Z",
     "shell.execute_reply": "2023-08-02T09:06:47.414698Z"
    },
    "papermill": {
     "duration": 90.055003,
     "end_time": "2023-08-02T09:06:47.418402",
     "exception": false,
     "start_time": "2023-08-02T09:05:17.363399",
     "status": "completed"
    },
    "tags": []
   },
   "outputs": [],
   "source": [
    "lda_model = LDA(corpus=corpus,num_topics=5,id2word=id2word,chunksize=100,passes=5,random_state=4)"
   ]
  },
  {
   "cell_type": "code",
   "execution_count": 26,
   "id": "517bfedc",
   "metadata": {
    "execution": {
     "iopub.execute_input": "2023-08-02T09:06:47.442799Z",
     "iopub.status.busy": "2023-08-02T09:06:47.442517Z",
     "iopub.status.idle": "2023-08-02T09:06:47.447647Z",
     "shell.execute_reply": "2023-08-02T09:06:47.446794Z"
    },
    "papermill": {
     "duration": 0.019546,
     "end_time": "2023-08-02T09:06:47.449953",
     "exception": false,
     "start_time": "2023-08-02T09:06:47.430407",
     "status": "completed"
    },
    "tags": []
   },
   "outputs": [],
   "source": [
    "# ! pip install pyLDAvis"
   ]
  },
  {
   "cell_type": "code",
   "execution_count": 27,
   "id": "ac631717",
   "metadata": {
    "execution": {
     "iopub.execute_input": "2023-08-02T09:06:47.472626Z",
     "iopub.status.busy": "2023-08-02T09:06:47.472355Z",
     "iopub.status.idle": "2023-08-02T09:06:47.994849Z",
     "shell.execute_reply": "2023-08-02T09:06:47.993849Z"
    },
    "papermill": {
     "duration": 0.536452,
     "end_time": "2023-08-02T09:06:47.997232",
     "exception": false,
     "start_time": "2023-08-02T09:06:47.460780",
     "status": "completed"
    },
    "tags": []
   },
   "outputs": [],
   "source": [
    "import pyLDAvis\n",
    "import pyLDAvis.gensim\n",
    "import matplotlib.pyplot as plt\n",
    "import seaborn as sns\n",
    "%matplotlib inline"
   ]
  },
  {
   "cell_type": "code",
   "execution_count": 28,
   "id": "fd426d7c",
   "metadata": {
    "execution": {
     "iopub.execute_input": "2023-08-02T09:06:48.020512Z",
     "iopub.status.busy": "2023-08-02T09:06:48.020152Z",
     "iopub.status.idle": "2023-08-02T09:07:01.972295Z",
     "shell.execute_reply": "2023-08-02T09:07:01.971015Z"
    },
    "papermill": {
     "duration": 13.96718,
     "end_time": "2023-08-02T09:07:01.975478",
     "exception": false,
     "start_time": "2023-08-02T09:06:48.008298",
     "status": "completed"
    },
    "tags": []
   },
   "outputs": [
    {
     "name": "stderr",
     "output_type": "stream",
     "text": [
      "/opt/conda/lib/python3.10/site-packages/pyLDAvis/_prepare.py:248: FutureWarning: In a future version of pandas all arguments of DataFrame.drop except for the argument 'labels' will be keyword-only.\n",
      "  by='saliency', ascending=False).head(R).drop('saliency', 1)\n",
      "/opt/conda/lib/python3.10/site-packages/scipy/__init__.py:146: UserWarning: A NumPy version >=1.16.5 and <1.23.0 is required for this version of SciPy (detected version 1.23.5\n",
      "  warnings.warn(f\"A NumPy version >={np_minversion} and <{np_maxversion}\"\n",
      "/opt/conda/lib/python3.10/site-packages/scipy/__init__.py:146: UserWarning: A NumPy version >=1.16.5 and <1.23.0 is required for this version of SciPy (detected version 1.23.5\n",
      "  warnings.warn(f\"A NumPy version >={np_minversion} and <{np_maxversion}\"\n"
     ]
    },
    {
     "data": {
      "text/html": [
       "\n",
       "<link rel=\"stylesheet\" type=\"text/css\" href=\"https://cdn.jsdelivr.net/gh/bmabey/pyLDAvis@3.2.2/pyLDAvis/js/ldavis.v1.0.0.css\">\n",
       "\n",
       "\n",
       "<div id=\"ldavis_el231405197454096961697366598\"></div>\n",
       "<script type=\"text/javascript\">\n",
       "\n",
       "var ldavis_el231405197454096961697366598_data = {\"mdsDat\": {\"x\": [0.04078887217795204, -0.06560709526150597, 0.03627674888983862, -0.2483954069120545, 0.23693688110576977], \"y\": [-0.18699626986117934, -0.10353322027465788, -0.0678066166314518, 0.1681495025807725, 0.19018660418651678], \"topics\": [1, 2, 3, 4, 5], \"cluster\": [1, 1, 1, 1, 1], \"Freq\": [33.29196117290863, 23.35980605172663, 16.591269101365278, 15.543752638302685, 11.213211035696784]}, \"tinfo\": {\"Term\": [\"network\", \"algorithm\", \"learn\", \"problem\", \"method\", \"k\", \"g\", \"system\", \"group\", \"p\", \"phase\", \"mass\", \"datum\", \"graph\", \"propose\", \"f\", \"prove\", \"distribution\", \"energy\", \"model\", \"neural\", \"n\", \"state\", \"space\", \"optimal\", \"function\", \"r\", \"deep\", \"equation\", \"field\", \"network\", \"learn\", \"neural\", \"task\", \"learning\", \"dataset\", \"training\", \"machine\", \"train\", \"user\", \"robot\", \"human\", \"art\", \"social\", \"architecture\", \"world\", \"label\", \"semantic\", \"adversarial\", \"attack\", \"software\", \"community\", \"classifier\", \"latent\", \"convolutional\", \"word\", \"sensor\", \"cnn\", \"video\", \"visual\", \"deep\", \"research\", \"image\", \"quality\", \"challenge\", \"classification\", \"feature\", \"datum\", \"prediction\", \"information\", \"use\", \"model\", \"approach\", \"base\", \"propose\", \"performance\", \"detection\", \"paper\", \"method\", \"system\", \"work\", \"different\", \"new\", \"show\", \"result\", \"present\", \"provide\", \"time\", \"optimal\", \"estimation\", \"stochastic\", \"estimator\", \"bayesian\", \"convergence\", \"gaussian\", \"guarantee\", \"likelihood\", \"variance\", \"variational\", \"markov\", \"tail\", \"posterior\", \"regret\", \"covariance\", \"synchronization\", \"parametric\", \"iteration\", \"descent\", \"multivariate\", \"recovery\", \"nonparametric\", \"bit\", \"volatility\", \"lasso\", \"minimization\", \"regularize\", \"message\", \"compress\", \"sparse\", \"optimization\", \"probability\", \"gradient\", \"approximate\", \"random\", \"error\", \"regression\", \"algorithm\", \"distribution\", \"variable\", \"solve\", \"problem\", \"sample\", \"regularization\", \"estimate\", \"noise\", \"scheme\", \"method\", \"matrix\", \"parameter\", \"linear\", \"time\", \"propose\", \"function\", \"model\", \"rate\", \"use\", \"show\", \"base\", \"result\", \"analysis\", \"approach\", \"paper\", \"datum\", \"consider\", \"number\", \"well\", \"set\", \"transition\", \"spin\", \"couple\", \"cell\", \"body\", \"wave\", \"dynamical\", \"force\", \"transport\", \"charge\", \"fluid\", \"protein\", \"coupling\", \"contact\", \"superconducte\", \"disorder\", \"liquid\", \"heat\", \"hole\", \"electric\", \"stress\", \"vortex\", \"solid\", \"gravity\", \"molecule\", \"voltage\", \"superconductor\", \"excitation\", \"reaction\", \"dielectric\", \"phase\", \"electronic\", \"particle\", \"material\", \"calculation\", \"energy\", \"quantum\", \"mode\", \"interaction\", \"flow\", \"magnetic\", \"regime\", \"growth\", \"dynamic\", \"system\", \"field\", \"state\", \"effect\", \"temperature\", \"induce\", \"model\", \"order\", \"study\", \"structure\", \"equation\", \"surface\", \"show\", \"time\", \"theory\", \"potential\", \"property\", \"result\", \"use\", \"non\", \"mathbb\", \"q\", \"manifold\", \"mathcal\", \"u\", \"delta\", \"omega\", \"log\", \"algebra\", \"formula\", \"conjecture\", \"let\", \"frac\", \"algebras\", \"curvature\", \"algebraic\", \"theta\", \"beta\", \"integrable\", \"mathbf\", \"vertex\", \"affine\", \"infty\", \"regularity\", \"riemannian\", \"subgroup\", \"prime\", \"geq\", \"laplacian\", \"mathfrak\", \"f\", \"invariant\", \"proof\", \"n\", \"theorem\", \"p\", \"r\", \"k\", \"group\", \"operator\", \"l\", \"prove\", \"g\", \"x\", \"c\", \"graph\", \"space\", \"give\", \"equation\", \"polynomial\", \"finite\", \"function\", \"theory\", \"set\", \"result\", \"show\", \"class\", \"number\", \"type\", \"e\", \"also\", \"property\", \"order\", \"paper\", \"case\", \"mass\", \"star\", \"optical\", \"galaxy\", \"electron\", \"band\", \"dark\", \"planet\", \"ray\", \"beam\", \"scatter\", \"solar\", \"atom\", \"emission\", \"gravitational\", \"stellar\", \"sim\", \"laser\", \"film\", \"dispersion\", \"resonance\", \"peak\", \"accretion\", \"probe\", \"metal\", \"photon\", \"atomic\", \"wavelength\", \"cosmic\", \"spectroscopy\", \"disk\", \"pm\", \"light\", \"rm\", \"measurement\", \"matter\", \"high\", \"line\", \"cluster\", \"gas\", \"low\", \"observation\", \"formation\", \"find\", \"observe\", \"use\", \"frequency\", \"large\", \"region\", \"present\", \"h\", \"field\", \"source\", \"model\", \"scale\"], \"Freq\": [12830.0, 8772.0, 7686.0, 9867.0, 11844.0, 4086.0, 4394.0, 9860.0, 3491.0, 3549.0, 3058.0, 2122.0, 11147.0, 3522.0, 9302.0, 2480.0, 3263.0, 3960.0, 3121.0, 19942.0, 3754.0, 2598.0, 5911.0, 5520.0, 2665.0, 6177.0, 2500.0, 3615.0, 3725.0, 4728.0, 12829.978177894724, 7686.0586209809, 3754.0265891929835, 3230.306508712249, 2729.749375380707, 2669.4582753085183, 2288.9902335897, 2304.3349882809475, 2175.1113578827753, 2122.0125200504076, 2001.954708907323, 1877.6048965043437, 1707.9369021633731, 1641.7921835392774, 1318.465779837926, 1255.7680887617914, 1193.715256598229, 1124.1780507322105, 1084.118917803975, 1066.2872053637072, 1059.6755567641985, 1073.6205505422363, 1043.0547193243162, 1000.5386258153818, 909.4501388436071, 865.0551317916486, 810.8326032422242, 787.3475474620759, 774.855812220965, 788.9301788131794, 3587.035400989846, 1543.4537659746795, 3331.129718454892, 1367.457331593938, 1638.931384074897, 1709.9282649844351, 3042.5893625638487, 7861.202943286124, 1731.6531125935255, 3045.0683798859604, 8861.220628972505, 9023.85661332581, 4562.862215170877, 5032.717647757398, 4948.331923778749, 2757.017282622615, 1951.545349813309, 3633.252856326812, 4414.265547242524, 3919.734796902899, 2550.6706116454698, 2416.6475947285808, 2523.4490636636947, 3102.31998078516, 2943.4941180466353, 2381.561976266723, 2233.8616943093784, 2277.2842797872045, 2664.8315251619024, 2079.715206222303, 1862.8848109811504, 1686.9336158158037, 1410.0566405068048, 1345.1685782614186, 1328.6326441202339, 1033.375505221987, 771.3395963685496, 675.6495819396094, 760.9855170861535, 564.6889312236441, 574.9163287700746, 538.4506731018033, 500.5037246870422, 479.79950558094293, 437.8185796037025, 433.7045184737959, 403.1845471156774, 399.8236542098607, 399.7639432716735, 389.2702101786162, 376.221991374167, 367.33341886449875, 351.84912322136813, 349.0302154147146, 343.53531773498554, 331.97916891045014, 339.735428435833, 325.72882374838736, 1065.8825676837655, 2278.0122492090377, 1571.6006724526158, 1630.761999874199, 1004.2128180785058, 2203.254154598643, 2144.9285551997555, 1069.8360958719388, 7469.995720456528, 3475.7769760007686, 1848.218994159439, 1699.6032526398708, 7294.437233044876, 3192.156210189438, 725.9346898684257, 2641.800098971997, 1583.808829829807, 1451.1005099559713, 7073.161214946833, 1970.9363965643774, 2871.8563826046466, 2431.3589429508206, 4404.361191653725, 4112.30818334431, 3151.6569990435473, 6271.452106403241, 1808.3943308977255, 4564.461243154665, 3590.4073450450787, 3130.9280176256643, 3248.0627568389955, 2271.2296268995906, 2646.328225349512, 2506.2890230721487, 2678.9482939977943, 1917.5063062051029, 2003.352063584482, 1896.1096428167648, 1873.9181092201736, 1940.0348839258957, 1707.0850166504706, 1183.5136498016825, 1026.559323844155, 958.9808708100919, 1929.1388520620726, 916.6085949375351, 906.7134458374728, 875.214897811879, 855.4863153860055, 753.975378493644, 693.8204857092285, 675.8459263440318, 649.6115260110005, 561.0359995563374, 560.9222410760793, 539.854898010963, 538.3254340304302, 523.7245770577935, 512.4965031365198, 510.8940914305931, 444.64500576702335, 437.7748489464599, 458.3165287038199, 424.6284696897867, 386.15212198089745, 368.0670418153095, 369.2118614333954, 369.9293073090641, 364.55511847238677, 2981.1213175901657, 800.8121351030205, 1631.3329008929284, 1101.3031221656497, 869.848823160547, 2643.4367435876015, 1892.9526232456317, 1094.968461606512, 1950.4656492014528, 1819.930551128859, 1404.9412140015193, 946.0917072317254, 798.829395941136, 2276.498732704608, 4705.745285764001, 2670.1740635266087, 3044.0180055941264, 1717.8800009253644, 1300.0851542364096, 995.8322229966996, 3921.850387707208, 1843.9594119595422, 1968.0524064670487, 1609.8215959724969, 1435.4193732414387, 1213.363379376592, 1974.9345147231697, 1817.4275447923294, 1314.4451837868555, 1107.4663056059162, 1314.2232628162326, 1461.625713682291, 1418.7936872686491, 1233.3740796357972, 1569.5152132356448, 1547.9791904699787, 1245.9151784190092, 1216.837413459225, 1228.6896855622806, 1186.5090450936057, 958.2709277126471, 941.2892942815623, 855.7129852538505, 806.5478992698706, 680.8670502890997, 667.128387721152, 655.8476424230987, 630.304191436327, 580.9829859889703, 543.1694589046856, 510.74581680079547, 566.0852047475042, 476.39949741023054, 459.390976530188, 451.9443889430356, 447.95489817046854, 441.6430508038102, 417.60368670754536, 405.92296252047174, 407.4298954362165, 396.93675017503966, 380.5075826694036, 380.56188183512586, 356.16549136231197, 2451.0826151812034, 1076.250731981381, 1142.8239807051193, 2395.933386657624, 1093.269363740558, 3178.509889407634, 2226.86465823952, 3482.288931246016, 2963.403107787945, 1588.1058994617326, 1464.074771478706, 2597.1268496342423, 3368.1105928456486, 1216.5611992203508, 1951.596498070781, 2432.120297975372, 3300.7712390651195, 2543.23062116933, 2026.0440245690609, 895.2712381520432, 1379.735809370853, 2379.2242226953636, 1710.154995552795, 2043.836176029727, 2423.069038974175, 2358.895963166163, 1569.7947228721625, 1673.3590348341456, 1470.8659868594407, 1498.9637454971892, 1659.7059028141355, 1510.6651033672372, 1570.5351388064114, 1600.0105234500845, 1491.7024865798019, 2121.172033116082, 1610.16634716515, 1311.7879658695017, 1173.4220849142077, 1178.263541636243, 1097.5698227653786, 1020.5081689632816, 843.4205215919887, 752.7862235875245, 737.8707894120217, 733.7843380046206, 706.142628472732, 695.4750852266087, 639.0210135113233, 632.0278942982346, 590.1857742300206, 577.7229456973183, 574.7992586649162, 528.0017881289073, 533.5849049306604, 531.4074164384336, 513.7621523272016, 496.799278163288, 491.5388242883271, 481.2555373609155, 452.8907538254669, 448.7889040700859, 408.94043783093554, 404.1148657205007, 401.65950458385123, 681.2420950277155, 539.0484549110821, 996.4437387989265, 703.2460101151997, 1348.2085707458145, 709.4089152403633, 2021.1447968731893, 941.4085302987262, 1184.0694212054382, 774.7273566386839, 1602.1963783679348, 965.3699806341353, 693.2836571772633, 1248.7689570735504, 949.2401841105782, 1704.1652112178608, 798.4577236958127, 1037.4983279192297, 761.183618107086, 792.5224439742954, 721.983422317888, 727.7796846732572, 714.1603591633301, 725.4153088629168, 717.2164179590678], \"Total\": [12830.0, 8772.0, 7686.0, 9867.0, 11844.0, 4086.0, 4394.0, 9860.0, 3491.0, 3549.0, 3058.0, 2122.0, 11147.0, 3522.0, 9302.0, 2480.0, 3263.0, 3960.0, 3121.0, 19942.0, 3754.0, 2598.0, 5911.0, 5520.0, 2665.0, 6177.0, 2500.0, 3615.0, 3725.0, 4728.0, 12830.822023077351, 7686.897320669623, 3754.8628780084405, 3231.1426605456554, 2730.5903907760717, 2670.304489771306, 2289.826610455449, 2305.17866321252, 2175.9491187635017, 2122.850031134692, 2002.7940039540163, 1878.4407154168211, 1708.7895161858253, 1642.6282989743368, 1319.3131424972491, 1256.6133657873982, 1194.5561971139205, 1125.0133255285184, 1084.956728085754, 1067.129073915224, 1060.514281942892, 1074.4711670964562, 1043.8912303903346, 1001.3839648385928, 910.2842228413132, 865.9391975013145, 811.6845874037283, 788.1812869420671, 775.6921336457316, 789.7847303871287, 3615.61951199025, 1597.1363249116266, 3752.6021359269826, 1443.0643949555206, 1771.3932332143895, 1873.5683220938545, 3654.0878193512876, 11147.23557411352, 1969.6441820617165, 4115.016246189103, 17492.112142403268, 19942.789179720927, 7834.482063648267, 9530.198440439177, 9302.741467726595, 4005.2965290687434, 2548.1834364967253, 7762.713325933013, 11844.621148643699, 9860.384207368936, 4587.346926992598, 4380.18316635103, 5745.257213585815, 11600.379240273123, 10772.945991782255, 5751.321407775763, 5483.255930357307, 9226.85868337303, 2665.6667511203773, 2080.5702851291676, 1863.7183893877868, 1687.7610908019597, 1410.8881129693211, 1345.999578522673, 1329.470734804448, 1034.2084246418508, 772.169513805091, 676.4804834296762, 761.9796696383444, 565.5235407415898, 575.7709128224833, 539.278941594116, 501.3321996209749, 480.6293885986229, 438.6837220761202, 434.59886123202836, 404.0187877094578, 400.65990400830907, 400.603312730942, 390.1076399302947, 377.0512237671118, 368.203324998672, 352.6825209431944, 349.8607735791097, 344.3666046955428, 332.81210159716323, 340.5973554617229, 326.58877438991135, 1068.8602588389992, 2305.6027730862666, 1622.3302643313975, 1697.5971797043742, 1031.2663121383819, 2328.7419201419425, 2338.803629293618, 1127.3749551608923, 8772.652156368182, 3960.694160340381, 2083.5987284140588, 1906.6423817468544, 9867.310101175046, 3974.327046337222, 769.1296039936109, 3362.6678374119087, 1937.1155368962236, 1746.878720156938, 11844.621148643699, 2608.156167705839, 4169.0268095065085, 3546.981549642115, 9226.85868337303, 9302.741467726595, 6177.893568340775, 19942.789179720927, 2622.620997044775, 17492.112142403268, 11600.379240273123, 9530.198440439177, 10772.945991782255, 5048.81594884358, 7834.482063648267, 7762.713325933013, 11147.23557411352, 3761.807241658701, 5039.93309055318, 5720.568269700645, 5642.567615178533, 1940.8670239629914, 1707.9148397368626, 1184.3608150088517, 1027.3983988072653, 959.8334767679544, 1930.9040739474226, 917.4508367083342, 907.556703900695, 876.0544021426298, 856.3251317816361, 754.8047349111018, 694.6585048759865, 676.6839480752732, 650.4501364993537, 561.8641881994809, 561.752480850472, 540.6840407499645, 539.1852398918139, 524.5772002405307, 513.3322234833115, 511.7294065546096, 445.4715367561611, 438.609137608541, 459.2153550953229, 425.4650291949347, 386.9920900938866, 368.8930868230585, 370.0447365150738, 370.76684581036835, 365.38603208738806, 3058.8435448219548, 822.4773370516389, 1784.7256435691834, 1180.861512371635, 928.8985882011154, 3121.0855660620036, 2275.8758837028186, 1232.8495626218144, 2414.192209652855, 2293.0847492875564, 1836.096592462762, 1126.694227377109, 906.0303283166784, 3595.986876517354, 9860.384207368936, 4728.141798261835, 5911.608511512343, 2797.673972148929, 1962.3855940590217, 1298.6297891015922, 19942.789179720927, 5561.980438420387, 7473.418105720379, 5118.713386806219, 3725.6226080968477, 2406.5825952892487, 11600.379240273123, 9226.85868337303, 3445.582727308997, 1837.704974034721, 4297.944480907394, 10772.945991782255, 17492.112142403268, 4090.8575026744275, 1570.3361680288856, 1548.8175309600847, 1246.7559082480761, 1217.660572837928, 1229.528492094967, 1187.3580524367333, 959.1188403053031, 942.1578860996891, 856.5429268002842, 807.3862371314353, 681.6947129870836, 667.9608367010236, 656.6704272060833, 631.1241930725662, 581.8179860675103, 543.9962101281988, 511.576144991818, 567.0263674139937, 477.2400526212404, 460.21367500212, 452.7783463270649, 448.78765990484504, 442.46705467526476, 418.4522900756087, 406.74920860608205, 408.271968662516, 397.7943759761062, 381.335118117236, 381.39976467832054, 356.9853189112744, 2480.5649969503675, 1119.2015051960648, 1196.6622905202241, 2598.4392001085866, 1152.3047148611356, 3549.4922163766523, 2500.2313365709306, 4086.3277337733216, 3491.4018985024377, 1836.3634729562777, 1684.749021295735, 3263.582208489875, 4394.356106996763, 1445.2966303375974, 2634.2649595402536, 3522.51388365272, 5520.594732726955, 4748.838575388098, 3725.6226080968477, 1062.715740252311, 2203.5950685448875, 6177.893568340775, 3445.582727308997, 5642.567615178533, 10772.945991782255, 11600.379240273123, 3461.688600848481, 5039.93309055318, 3284.412083727185, 3729.774040466554, 6820.995036445849, 4297.944480907394, 5561.980438420387, 7762.713325933013, 4223.771839497904, 2122.000165907199, 1610.9882682377715, 1312.619363376265, 1174.2402980170643, 1179.0908381892677, 1098.3993522745718, 1021.3293375115253, 844.2394647280317, 753.6098391618815, 738.6988154280899, 734.6168255024402, 706.966440916335, 696.3128588273415, 639.8402008155506, 632.8545312918394, 591.004272483725, 578.5480602255618, 575.6211537047328, 528.826559326605, 534.423734555751, 532.2436144337387, 514.6022610356115, 497.6202224895014, 492.374025892168, 482.08235536015746, 453.71233155034446, 449.62353345846765, 409.7621836088982, 404.9346937367433, 402.4805240029761, 713.2976989412454, 568.6308138569177, 1284.267712441741, 832.3684804104411, 2129.7501230689327, 942.3707174961839, 6038.004750903381, 1549.319226740042, 2483.1875366088498, 1128.3983193070019, 4862.997687275094, 1809.0998064418031, 976.5564244866925, 4111.39614940605, 2186.374261183256, 17492.112142403268, 1656.9348559535065, 5597.597768329251, 1453.2452803491888, 5751.321407775763, 1984.7150058225316, 4728.141798261835, 2022.267689684958, 19942.789179720927, 3734.0507741977844], \"Category\": [\"Default\", \"Default\", \"Default\", \"Default\", \"Default\", \"Default\", \"Default\", \"Default\", \"Default\", \"Default\", \"Default\", \"Default\", \"Default\", \"Default\", \"Default\", \"Default\", \"Default\", \"Default\", \"Default\", \"Default\", \"Default\", \"Default\", \"Default\", \"Default\", \"Default\", \"Default\", \"Default\", \"Default\", \"Default\", \"Default\", \"Topic1\", \"Topic1\", \"Topic1\", \"Topic1\", \"Topic1\", \"Topic1\", \"Topic1\", \"Topic1\", \"Topic1\", \"Topic1\", \"Topic1\", \"Topic1\", \"Topic1\", \"Topic1\", \"Topic1\", \"Topic1\", \"Topic1\", \"Topic1\", \"Topic1\", \"Topic1\", \"Topic1\", \"Topic1\", \"Topic1\", \"Topic1\", \"Topic1\", \"Topic1\", \"Topic1\", \"Topic1\", \"Topic1\", \"Topic1\", \"Topic1\", \"Topic1\", \"Topic1\", \"Topic1\", \"Topic1\", \"Topic1\", \"Topic1\", \"Topic1\", \"Topic1\", \"Topic1\", \"Topic1\", \"Topic1\", \"Topic1\", \"Topic1\", \"Topic1\", \"Topic1\", \"Topic1\", \"Topic1\", \"Topic1\", \"Topic1\", \"Topic1\", \"Topic1\", \"Topic1\", \"Topic1\", \"Topic1\", \"Topic1\", \"Topic1\", \"Topic1\", \"Topic2\", \"Topic2\", \"Topic2\", \"Topic2\", \"Topic2\", \"Topic2\", \"Topic2\", \"Topic2\", \"Topic2\", \"Topic2\", \"Topic2\", \"Topic2\", \"Topic2\", \"Topic2\", \"Topic2\", \"Topic2\", \"Topic2\", \"Topic2\", \"Topic2\", \"Topic2\", \"Topic2\", \"Topic2\", \"Topic2\", \"Topic2\", \"Topic2\", \"Topic2\", \"Topic2\", \"Topic2\", \"Topic2\", \"Topic2\", \"Topic2\", \"Topic2\", \"Topic2\", \"Topic2\", \"Topic2\", \"Topic2\", \"Topic2\", \"Topic2\", \"Topic2\", \"Topic2\", \"Topic2\", \"Topic2\", \"Topic2\", \"Topic2\", \"Topic2\", \"Topic2\", \"Topic2\", \"Topic2\", \"Topic2\", \"Topic2\", \"Topic2\", \"Topic2\", \"Topic2\", \"Topic2\", \"Topic2\", \"Topic2\", \"Topic2\", \"Topic2\", \"Topic2\", \"Topic2\", \"Topic2\", \"Topic2\", \"Topic2\", \"Topic2\", \"Topic2\", \"Topic2\", \"Topic2\", \"Topic2\", \"Topic2\", \"Topic3\", \"Topic3\", \"Topic3\", \"Topic3\", \"Topic3\", \"Topic3\", \"Topic3\", \"Topic3\", \"Topic3\", \"Topic3\", \"Topic3\", \"Topic3\", \"Topic3\", \"Topic3\", \"Topic3\", \"Topic3\", \"Topic3\", \"Topic3\", \"Topic3\", \"Topic3\", \"Topic3\", \"Topic3\", \"Topic3\", \"Topic3\", \"Topic3\", \"Topic3\", \"Topic3\", \"Topic3\", \"Topic3\", \"Topic3\", \"Topic3\", \"Topic3\", \"Topic3\", \"Topic3\", \"Topic3\", \"Topic3\", \"Topic3\", \"Topic3\", \"Topic3\", \"Topic3\", \"Topic3\", \"Topic3\", \"Topic3\", \"Topic3\", \"Topic3\", \"Topic3\", \"Topic3\", \"Topic3\", \"Topic3\", \"Topic3\", \"Topic3\", \"Topic3\", \"Topic3\", \"Topic3\", \"Topic3\", \"Topic3\", \"Topic3\", \"Topic3\", \"Topic3\", \"Topic3\", \"Topic3\", \"Topic3\", \"Topic3\", \"Topic3\", \"Topic4\", \"Topic4\", \"Topic4\", \"Topic4\", \"Topic4\", \"Topic4\", \"Topic4\", \"Topic4\", \"Topic4\", \"Topic4\", \"Topic4\", \"Topic4\", \"Topic4\", \"Topic4\", \"Topic4\", \"Topic4\", \"Topic4\", \"Topic4\", \"Topic4\", \"Topic4\", \"Topic4\", \"Topic4\", \"Topic4\", \"Topic4\", \"Topic4\", \"Topic4\", \"Topic4\", \"Topic4\", \"Topic4\", \"Topic4\", \"Topic4\", \"Topic4\", \"Topic4\", \"Topic4\", \"Topic4\", \"Topic4\", \"Topic4\", \"Topic4\", \"Topic4\", \"Topic4\", \"Topic4\", \"Topic4\", \"Topic4\", \"Topic4\", \"Topic4\", \"Topic4\", \"Topic4\", \"Topic4\", \"Topic4\", \"Topic4\", \"Topic4\", \"Topic4\", \"Topic4\", \"Topic4\", \"Topic4\", \"Topic4\", \"Topic4\", \"Topic4\", \"Topic4\", \"Topic4\", \"Topic4\", \"Topic4\", \"Topic4\", \"Topic4\", \"Topic4\", \"Topic5\", \"Topic5\", \"Topic5\", \"Topic5\", \"Topic5\", \"Topic5\", \"Topic5\", \"Topic5\", \"Topic5\", \"Topic5\", \"Topic5\", \"Topic5\", \"Topic5\", \"Topic5\", \"Topic5\", \"Topic5\", \"Topic5\", \"Topic5\", \"Topic5\", \"Topic5\", \"Topic5\", \"Topic5\", \"Topic5\", \"Topic5\", \"Topic5\", \"Topic5\", \"Topic5\", \"Topic5\", \"Topic5\", \"Topic5\", \"Topic5\", \"Topic5\", \"Topic5\", \"Topic5\", \"Topic5\", \"Topic5\", \"Topic5\", \"Topic5\", \"Topic5\", \"Topic5\", \"Topic5\", \"Topic5\", \"Topic5\", \"Topic5\", \"Topic5\", \"Topic5\", \"Topic5\", \"Topic5\", \"Topic5\", \"Topic5\", \"Topic5\", \"Topic5\", \"Topic5\", \"Topic5\", \"Topic5\"], \"logprob\": [30.0, 29.0, 28.0, 27.0, 26.0, 25.0, 24.0, 23.0, 22.0, 21.0, 20.0, 19.0, 18.0, 17.0, 16.0, 15.0, 14.0, 13.0, 12.0, 11.0, 10.0, 9.0, 8.0, 7.0, 6.0, 5.0, 4.0, 3.0, 2.0, 1.0, -3.9834, -4.4958, -5.2124, -5.3626, -5.531, -5.5533, -5.7071, -5.7004, -5.7581, -5.7828, -5.8411, -5.9052, -5.9999, -6.0394, -6.2587, -6.3074, -6.3581, -6.4181, -6.4544, -6.471, -6.4772, -6.4642, -6.493, -6.5347, -6.6301, -6.6802, -6.7449, -6.7743, -6.7903, -6.7723, -5.2579, -6.1012, -5.3319, -6.2222, -6.0411, -5.9987, -5.4225, -4.4733, -5.9861, -5.4217, -4.3535, -4.3353, -5.0172, -4.9192, -4.9361, -5.521, -5.8666, -5.2451, -5.0504, -5.1692, -5.5988, -5.6528, -5.6096, -5.403, -5.4556, -5.6674, -5.7315, -5.7122, -5.2008, -5.4487, -5.5588, -5.658, -5.8373, -5.8844, -5.8967, -6.1481, -6.4405, -6.573, -6.454, -6.7524, -6.7344, -6.8, -6.873, -6.9153, -7.0068, -7.0163, -7.0893, -7.0976, -7.0978, -7.1244, -7.1585, -7.1824, -7.2254, -7.2335, -7.2494, -7.2836, -7.2605, -7.3026, -6.1171, -5.3576, -5.7288, -5.6918, -6.1767, -5.391, -5.4178, -6.1134, -4.17, -4.9351, -5.5667, -5.6505, -4.1938, -5.0202, -6.5012, -5.2094, -5.7211, -5.8086, -4.2246, -5.5024, -5.1259, -5.2924, -4.6983, -4.7669, -5.033, -4.3449, -5.5885, -4.6626, -4.9026, -5.0396, -5.0028, -5.3606, -5.2077, -5.2621, -5.1955, -5.5299, -5.4861, -5.5411, -5.5529, -5.176, -5.304, -5.6703, -5.8125, -5.8806, -5.1817, -5.9258, -5.9367, -5.972, -5.9948, -6.1211, -6.2043, -6.2305, -6.2701, -6.4167, -6.4169, -6.4552, -6.458, -6.4855, -6.5072, -6.5103, -6.6492, -6.6648, -6.6189, -6.6953, -6.7903, -6.8382, -6.8351, -6.8332, -6.8478, -4.7465, -6.0609, -5.3494, -5.7423, -5.9782, -4.8667, -5.2006, -5.748, -5.1707, -5.24, -5.4988, -5.8942, -6.0634, -5.0161, -4.29, -4.8566, -4.7256, -5.2977, -5.5763, -5.8429, -4.4722, -5.2268, -5.1617, -5.3626, -5.4773, -5.6454, -5.1582, -5.2413, -5.5653, -5.7367, -5.5655, -5.4592, -5.4889, -5.629, -5.3228, -5.3366, -5.5537, -5.5773, -5.5676, -5.6025, -5.8162, -5.834, -5.9294, -5.9885, -6.1579, -6.1783, -6.1954, -6.2351, -6.3166, -6.3839, -6.4454, -6.3425, -6.515, -6.5514, -6.5677, -6.5766, -6.5908, -6.6468, -6.6751, -6.6714, -6.6975, -6.7398, -6.7396, -6.8059, -4.877, -5.7001, -5.64, -4.8998, -5.6844, -4.6171, -4.9729, -4.5258, -4.6872, -5.311, -5.3923, -4.8191, -4.5592, -5.5775, -5.1049, -4.8848, -4.5794, -4.8401, -5.0675, -5.8842, -5.4516, -4.9068, -5.237, -5.0587, -4.8885, -4.9153, -5.3226, -5.2587, -5.3877, -5.3688, -5.2669, -5.361, -5.3221, -5.3035, -5.3736, -4.695, -4.9706, -5.1756, -5.287, -5.2829, -5.3539, -5.4267, -5.6173, -5.7309, -5.751, -5.7565, -5.7949, -5.8101, -5.8948, -5.9058, -5.9743, -5.9956, -6.0007, -6.0856, -6.0751, -6.0792, -6.113, -6.1465, -6.1572, -6.1783, -6.2391, -6.2482, -6.3412, -6.353, -6.3591, -5.8308, -6.0649, -5.4505, -5.799, -5.1482, -5.7903, -4.7433, -5.5073, -5.278, -5.7022, -4.9756, -5.4822, -5.8133, -5.2248, -5.4991, -4.9139, -5.672, -5.4102, -5.7199, -5.6795, -5.7727, -5.7647, -5.7836, -5.768, -5.7793], \"loglift\": [30.0, 29.0, 28.0, 27.0, 26.0, 25.0, 24.0, 23.0, 22.0, 21.0, 20.0, 19.0, 18.0, 17.0, 16.0, 15.0, 14.0, 13.0, 12.0, 11.0, 10.0, 9.0, 8.0, 7.0, 6.0, 5.0, 4.0, 3.0, 2.0, 1.0, 1.0998, 1.0997, 1.0996, 1.0996, 1.0995, 1.0995, 1.0995, 1.0995, 1.0995, 1.0995, 1.0994, 1.0994, 1.0994, 1.0993, 1.0992, 1.0992, 1.0992, 1.0991, 1.0991, 1.0991, 1.0991, 1.0991, 1.0991, 1.099, 1.0989, 1.0988, 1.0988, 1.0988, 1.0988, 1.0988, 1.0919, 1.0657, 0.9807, 1.046, 1.0221, 1.0085, 0.9167, 0.7506, 0.9711, 0.7987, 0.4198, 0.3069, 0.5593, 0.4613, 0.4686, 0.7264, 0.8331, 0.3407, 0.1128, 0.1774, 0.5129, 0.5051, 0.2771, -0.219, -0.1976, 0.2182, 0.2019, -0.2993, 1.4538, 1.4537, 1.4537, 1.4537, 1.4536, 1.4535, 1.4535, 1.4533, 1.4531, 1.4529, 1.4528, 1.4527, 1.4527, 1.4526, 1.4525, 1.4524, 1.4522, 1.4521, 1.4521, 1.4521, 1.4521, 1.452, 1.452, 1.4518, 1.4518, 1.4518, 1.4517, 1.4516, 1.4516, 1.4515, 1.4514, 1.4421, 1.4224, 1.414, 1.4276, 1.3988, 1.3676, 1.4018, 1.2934, 1.3236, 1.3343, 1.3392, 1.152, 1.235, 1.3964, 1.2129, 1.2528, 1.2686, 0.9386, 1.174, 1.0814, 1.0765, 0.7146, 0.6378, 0.7811, 0.2973, 1.0824, 0.1107, 0.2814, 0.341, 0.2552, 0.6553, 0.3688, 0.3236, 0.0284, 0.7803, 0.5316, 0.3499, 0.3518, 1.7959, 1.7958, 1.7956, 1.7955, 1.7954, 1.7954, 1.7954, 1.7954, 1.7953, 1.7953, 1.7952, 1.7951, 1.7951, 1.795, 1.7948, 1.7948, 1.7948, 1.7947, 1.7947, 1.7947, 1.7947, 1.7944, 1.7944, 1.7943, 1.7943, 1.7941, 1.7941, 1.794, 1.794, 1.794, 1.7706, 1.7696, 1.7064, 1.7265, 1.7306, 1.6302, 1.6121, 1.6777, 1.583, 1.5652, 1.5286, 1.6216, 1.6704, 1.3391, 1.0566, 1.2249, 1.1326, 1.3086, 1.3846, 1.5308, 0.17, 0.6923, 0.462, 0.6395, 0.8425, 1.1115, 0.0258, 0.1716, 0.8326, 1.2899, 0.6114, -0.2012, -0.7156, 0.5973, 1.861, 1.861, 1.8608, 1.8608, 1.8608, 1.8608, 1.8606, 1.8606, 1.8605, 1.8605, 1.8603, 1.8603, 1.8603, 1.8602, 1.8601, 1.86, 1.8599, 1.8599, 1.8597, 1.8597, 1.8597, 1.8597, 1.8596, 1.8595, 1.8595, 1.8594, 1.8594, 1.8593, 1.8593, 1.8592, 1.8496, 1.8224, 1.8155, 1.7804, 1.8089, 1.7511, 1.7457, 1.7016, 1.6975, 1.7163, 1.7211, 1.6331, 1.5955, 1.6892, 1.5616, 1.4911, 1.3472, 1.237, 1.2524, 1.6901, 1.3933, 0.9073, 1.161, 0.846, 0.3695, 0.2687, 1.0707, 0.759, 1.0582, 0.9499, 0.4481, 0.8159, 0.597, 0.2822, 0.8207, 2.1877, 2.1876, 2.1874, 2.1874, 2.1874, 2.1873, 2.1873, 2.1871, 2.187, 2.187, 2.1869, 2.1869, 2.1869, 2.1868, 2.1868, 2.1867, 2.1867, 2.1866, 2.1865, 2.1865, 2.1865, 2.1864, 2.1864, 2.1864, 2.1864, 2.1863, 2.1862, 2.1861, 2.1861, 2.186, 2.1421, 2.1347, 1.9343, 2.0195, 1.7308, 1.9041, 1.0937, 1.6899, 1.4475, 1.812, 1.0778, 1.56, 1.8455, 0.9965, 1.3537, -0.1406, 1.458, 0.5026, 1.5414, 0.2061, 1.1768, 0.3168, 1.1472, -1.1258, 0.5382]}, \"token.table\": {\"Topic\": [5, 1, 4, 4, 4, 4, 1, 2, 1, 2, 3, 4, 5, 1, 2, 3, 5, 1, 2, 3, 4, 2, 4, 1, 1, 5, 5, 1, 5, 1, 2, 3, 4, 5, 2, 5, 4, 2, 3, 4, 5, 3, 5, 1, 2, 3, 4, 3, 1, 2, 3, 5, 3, 1, 2, 4, 1, 4, 1, 1, 2, 4, 5, 1, 1, 2, 4, 1, 2, 3, 4, 5, 3, 2, 1, 5, 3, 3, 2, 4, 5, 1, 1, 2, 5, 1, 5, 4, 2, 1, 5, 3, 1, 2, 3, 4, 5, 4, 5, 3, 5, 2, 5, 1, 2, 3, 3, 1, 2, 3, 4, 5, 1, 2, 3, 5, 3, 5, 3, 5, 5, 3, 5, 2, 3, 4, 1, 2, 1, 2, 4, 5, 2, 2, 3, 4, 5, 1, 3, 5, 1, 3, 4, 5, 5, 1, 2, 3, 4, 5, 2, 3, 4, 1, 2, 3, 3, 3, 3, 5, 4, 4, 2, 3, 5, 1, 2, 3, 4, 5, 1, 4, 5, 5, 3, 5, 2, 4, 1, 2, 3, 4, 5, 2, 3, 1, 4, 5, 3, 1, 4, 3, 4, 5, 2, 4, 5, 3, 1, 2, 3, 4, 5, 3, 1, 1, 4, 5, 2, 3, 4, 5, 1, 2, 3, 4, 4, 1, 3, 1, 4, 2, 4, 5, 4, 5, 1, 4, 1, 2, 3, 4, 5, 5, 2, 1, 1, 1, 4, 1, 3, 5, 2, 1, 2, 3, 4, 5, 2, 3, 4, 5, 3, 4, 1, 2, 3, 4, 5, 1, 3, 5, 4, 2, 5, 3, 5, 4, 4, 4, 4, 2, 4, 3, 5, 1, 2, 3, 5, 2, 5, 1, 2, 3, 2, 2, 3, 5, 1, 2, 3, 5, 3, 2, 4, 5, 1, 1, 1, 2, 3, 4, 5, 1, 2, 5, 1, 2, 3, 4, 5, 2, 1, 2, 3, 4, 5, 1, 2, 3, 5, 1, 2, 3, 5, 4, 2, 4, 5, 2, 1, 2, 1, 2, 3, 4, 5, 4, 5, 1, 2, 3, 4, 1, 2, 3, 4, 5, 2, 3, 5, 5, 1, 2, 3, 5, 5, 5, 4, 5, 2, 4, 2, 1, 2, 3, 4, 5, 1, 3, 5, 1, 2, 3, 4, 5, 4, 2, 4, 5, 1, 2, 4, 1, 4, 1, 2, 3, 4, 5, 1, 2, 3, 3, 1, 2, 4, 1, 2, 3, 4, 5, 4, 1, 5, 3, 4, 4, 5, 1, 2, 3, 4, 1, 2, 3, 5, 5, 3, 2, 2, 3, 5, 1, 2, 3, 5, 1, 2, 2, 4, 1, 2, 2, 1, 3, 5, 1, 2, 3, 4, 5, 4, 4, 5, 1, 1, 2, 5, 1, 2, 3, 5, 5, 1, 2, 3, 4, 1, 1, 1, 2, 4, 5, 1, 2, 3, 4, 5, 5, 1, 1, 5, 3, 1, 2, 1, 2, 5, 1, 2, 3, 4, 5, 1, 2, 5, 3, 5, 1, 2, 3, 4, 5, 2, 3, 1, 2, 3, 4, 5, 1, 2, 3, 4, 5, 4, 3, 3, 3, 4, 5, 2, 1, 2, 3, 4, 5, 2, 1, 3, 5, 2, 4, 2, 3, 4, 4, 1, 2, 3, 4, 5, 1, 1, 3, 3, 1, 2, 3, 4, 5, 4, 1, 2, 3, 4, 5, 1, 1, 2, 4, 2, 2, 4, 1, 1, 2, 3, 3, 3, 5, 5, 1, 2, 3, 4, 5, 1, 1, 2, 3, 4, 5, 1, 4, 5], \"Freq\": [0.9987536228202333, 0.9991181877940495, 0.9982449163040444, 0.9993661417504054, 0.9981687186240433, 0.9982187450823377, 0.14841577858012545, 0.8515098817154662, 0.30728654526219135, 0.23676897452215603, 0.13443786355220871, 0.24336625245001797, 0.07814109190112023, 0.39395375473244887, 0.44980843489059397, 0.08813947755451973, 0.06813478714326919, 0.5824252277214554, 0.3377377060159919, 0.07518046441550236, 0.0045950708301495495, 0.973560357962393, 0.025211722417352807, 0.9990046771649954, 0.9995379675622147, 0.9981145561069309, 0.9986132099143666, 0.9989419518755296, 0.9996364234249184, 0.5281107241842559, 0.32853460707746973, 0.06568593549361101, 0.02035634422645453, 0.05729156674043388, 0.9993705291290236, 0.9990539914055704, 0.9981899123691996, 0.9967319007815144, 0.9991316444069435, 0.7410036689478168, 0.2588957490893499, 0.9365930910550988, 0.06243953940367325, 0.10464580398654826, 0.3911196112800401, 0.15104982566384115, 0.35323877725776015, 0.9996122255906493, 0.9252603934959448, 0.027097314757660373, 0.02483920519452201, 0.022581095631383646, 0.9984525366213659, 0.2120352477169934, 0.33451882405487515, 0.4535358840813074, 0.9126969002597917, 0.08699976300721991, 0.9991462420945894, 0.21182451677344064, 0.30444740433597167, 0.007248747722285041, 0.47680651684363823, 0.9985012496977057, 0.9995614893066611, 0.9981971995485417, 0.9989809030731082, 0.11085097486710441, 0.5098613184534921, 0.16375108037922376, 0.2086762956131342, 0.006911571574447757, 0.9993079615575511, 0.9992573708501677, 0.9985892067454442, 0.9976917420235891, 0.9996953504335172, 0.998989265110812, 0.9986904908156823, 0.9985940859734518, 0.9996775403394093, 0.9995114827629946, 0.7051972614856257, 0.24032864311410648, 0.054452962437574706, 0.9920844790511444, 0.007744177700984679, 0.9996984461123597, 0.9983529572045837, 0.7660359030838196, 0.2338921097530515, 0.9989434952256311, 0.5518034082610098, 0.11095426413522994, 0.22944245978581498, 0.041322472856947776, 0.06643557790813151, 0.04346011496464043, 0.9547205900296817, 0.9986604761418538, 0.9992071187554885, 0.8776239364317071, 0.12220080127530099, 0.16379370120795197, 0.20300407789780126, 0.6329277825964325, 0.9995085985098103, 0.36034354505611826, 0.11448414712720424, 0.050405198266778445, 0.40190102235053665, 0.07292666983278584, 0.0850706702672682, 0.178719895519471, 0.6140815610049024, 0.12188696874427922, 0.9974047538370542, 0.9990748480490758, 0.9738870165971631, 0.02553261841265971, 0.9986868583523204, 0.8468207436346505, 0.15283143954359754, 0.07086063935360823, 0.3851705207288932, 0.5438017247364025, 0.08252082286116993, 0.9171355701409819, 0.04074146083528803, 0.7856856899768686, 0.09456777040599705, 0.07880647533833088, 0.9997258996087546, 0.9995490529992026, 0.9971767291573643, 0.9880813455858988, 0.011690884953892724, 0.8327659734626262, 0.08647849083607949, 0.08073150252102357, 0.07762034550971313, 0.5647038760515914, 0.20346259504180936, 0.15397169354515303, 0.9984369935434834, 0.22693021204847533, 0.15420552458599504, 0.25952254689788123, 0.05545561451988465, 0.30378974796199965, 0.21283402141106508, 0.16110037868001728, 0.6262493593758418, 0.0671584423767358, 0.13867782257014274, 0.7936906826341503, 0.9989338502080322, 0.9993865905035991, 0.2897938029016125, 0.7096364148792136, 0.9995216203674618, 0.9989790507105127, 0.1689867281106052, 0.3494404127715729, 0.48161217511522486, 0.02913614454648875, 0.5102062645029586, 0.06102403607792366, 0.38508271042275966, 0.014568072273244375, 0.16748756406612775, 0.7664376573026063, 0.06599374127605577, 0.9989437442922383, 0.3128327949095073, 0.6868142097871618, 0.999645923154136, 0.9991211978616327, 0.18572962335910073, 0.2430067861183699, 0.022110669447511992, 0.5354993562383142, 0.013687557277031233, 0.9607697394290137, 0.03887848117861122, 0.3094380990401404, 0.6904160154730472, 0.9986497192489164, 0.9973534092842549, 0.1509422333264026, 0.8486562378484458, 0.8818689342159981, 0.08498611756524638, 0.03200775856353435, 0.9988315463178814, 0.6358595547963751, 0.3637801890356441, 0.9978017946261812, 0.2467702596254288, 0.264988198255494, 0.13133477576037922, 0.022192761603897625, 0.3347132179214709, 0.9988996848504547, 0.9997653823124658, 0.8876507232433164, 0.008527416134429939, 0.10366140238416394, 0.04466245922182726, 0.7669622307748267, 0.17941987928768538, 0.009240508804515985, 0.7399727772204934, 0.25224687775201055, 0.007533384595676615, 0.9989444306184389, 0.9974016166194991, 0.19178257561628714, 0.8077235906085527, 0.03752675439141973, 0.9613997077420865, 0.99747836551059, 0.8521098225238815, 0.14756525645660556, 0.8689721623188968, 0.1305832484358998, 0.9995343901649296, 0.9989518486497817, 0.3406818565616932, 0.2654710219458186, 0.15989001658244123, 0.04859227319600448, 0.1852580415597671, 0.9989208984056006, 0.9975396682220075, 0.9996165658208291, 0.9998832662084337, 0.9997837864008948, 0.998561537371309, 0.10979019299015218, 0.1144621160961161, 0.7755392355900111, 0.9984854183127123, 0.10262571925513087, 0.09358949240247784, 0.01742700893011656, 0.17878820272749213, 0.6073635334533217, 0.6853714816321174, 0.07809457030526389, 0.2294909033519307, 0.0070482464174425885, 0.9987348604759709, 0.9987710275350107, 0.10446231577063529, 0.38206886358629993, 0.14271032902523798, 0.041332530452554514, 0.3294264367412554, 0.9994886889978075, 0.7652102867395822, 0.23473710575427756, 0.9993936998869825, 0.9990742370496137, 0.9995286683180953, 0.9323701284740481, 0.06690030894591262, 0.9997859260738371, 0.9973628010899189, 0.9994575065887299, 0.9972398895442551, 0.7557062818572371, 0.24423384147288688, 0.24618761565131025, 0.75235784265853, 0.0497710970182999, 0.2704542630428372, 0.04695386511160368, 0.6329381017044176, 0.998246153553033, 0.9977548330733887, 0.37265860550596314, 0.5971486897924053, 0.030140263290808527, 0.9989354232072912, 0.0924687029596411, 0.8881862257965527, 0.018655966386594256, 0.4524943787289376, 0.31444949567920744, 0.1966625613225724, 0.03635399208538118, 0.9989070095941501, 0.9984939896606717, 0.9220920004208192, 0.07773897499374186, 0.9999359337168053, 0.9997701971985464, 0.4391448295881095, 0.28562689867383584, 0.0649231159081906, 0.1399415152551883, 0.0704929274606359, 0.07898341481744907, 0.8177106475218257, 0.10324629387901839, 0.0469339251915958, 0.3862270927225071, 0.3014038008397793, 0.2627810915675286, 0.0024444752703956145, 0.9972119868578888, 0.15158931403911632, 0.3974259110214005, 0.11012050954412246, 0.3319488512924628, 0.008730274630525024, 0.06356752656238783, 0.39854075349114454, 0.00386932770379752, 0.5334144620235153, 0.15184957392442183, 0.19392837151793632, 0.21954155266181472, 0.43405194474179615, 0.9988334706208597, 0.13504951696776898, 0.8647525521968433, 0.9995281470062487, 0.9997498745407328, 0.01171060354158837, 0.9880279580643817, 0.08558102734629267, 0.29413983348431677, 0.33153658492975563, 0.2824533486576172, 0.006472514673249025, 0.8956210652703295, 0.10424026239384142, 0.46800646210432406, 0.32282526673092105, 0.002962881538232715, 0.20611349831184103, 0.0033580978582522457, 0.688889789207175, 0.17150285490359685, 0.02278709260956881, 0.11345573478237946, 0.9986220368126814, 0.9138659523814792, 0.08572746211794378, 0.9988296572300334, 0.688338548716896, 0.3115874170470389, 0.9745513153316622, 0.025172912204138875, 0.9984299929695312, 0.9985318564461672, 0.05099969838654778, 0.9478909458741123, 0.15714456243995284, 0.8421819364296874, 0.9976284228893949, 0.2590187253805662, 0.022854593415932312, 0.6023817836056445, 0.08053523394185673, 0.035370204096085725, 0.8793466433043945, 0.08021753443538933, 0.040108767217694664, 0.41416569012810617, 0.23281606174707564, 0.1338822759859957, 0.081372604105774, 0.13788135695700596, 0.998003048750609, 0.9689765607916216, 0.030819865165127913, 0.9992403622601939, 0.1285051333137894, 0.7392085507813722, 0.1322548887811476, 0.04428985555896422, 0.9551566962999264, 0.05630598558800096, 0.22173390192299552, 0.3057275415811292, 0.35156340588210516, 0.06468208261762094, 0.5318862205475429, 0.4420202382561633, 0.026013836979083542, 0.9990520451828282, 0.023900118035050866, 0.18017012057192192, 0.7957513658593218, 0.4074221645631677, 0.3164178404284225, 0.09355755166557969, 0.1185427067887462, 0.06401306166592295, 0.9994721579890835, 0.9472896738209211, 0.05197273265294008, 0.8317676783498911, 0.16784746599559344, 0.8907175777799555, 0.10918989615353743, 0.0012882492362301541, 0.9460043558050099, 0.04680638891636227, 0.0060118297690740525, 0.028597345969742328, 0.6893866868439217, 0.11133900030886347, 0.1704401819796643, 0.9991907760087637, 0.9979317303609164, 0.9971606812660921, 0.10561871811221256, 0.8396244313794377, 0.054140687435671984, 0.12523694551842526, 0.18716730319237182, 0.16377139029332535, 0.5236555798874815, 0.0505599310496172, 0.9491074775980772, 0.9993373662788345, 0.9989191358576937, 0.05590735264476596, 0.9439241400023277, 0.9975598796039388, 0.9661041302065294, 0.03318439332530529, 0.9976634488418207, 0.2731843269468685, 0.3014959884211447, 0.13571032483735024, 0.22491526476121723, 0.06469910835269023, 0.9981580576182322, 0.15497943883746063, 0.8445778721142234, 0.9996035518618247, 0.07171025350383753, 0.8031548392429803, 0.12480100258913478, 0.31975997976527687, 0.2102274573833688, 0.2777144882886031, 0.19201667126608335, 0.9991603438949029, 0.05495516024797385, 0.8306243491646881, 0.05495516024797385, 0.05953475693530501, 0.9990992768658608, 0.9991565844487474, 0.30323074824968016, 0.33211830638217454, 0.362246434495819, 0.00248113996230013, 0.26740505079616395, 0.30947264099233673, 0.17025305458492063, 0.20335542064092543, 0.049481140927465535, 0.9990526971512995, 0.9996175038657686, 0.9995150636331367, 0.9986329748338798, 0.9986112062966535, 0.10804333417327272, 0.8916197480318622, 0.5033952751124608, 0.14340336913812735, 0.3530689847055963, 0.14871586119752328, 0.14781016167744093, 0.03785823993944259, 0.5979428231583731, 0.06774632410216043, 0.001871151989664588, 0.9973240104912254, 0.9988060937751797, 0.9994643528379884, 0.9993865453540188, 0.33408842891978713, 0.13820265641897017, 0.5149190772819402, 0.012856061062229782, 0.9983007356621899, 0.999614539733107, 0.9985746245080567, 0.31804867297244355, 0.07052553497730474, 0.314532164303215, 0.2064972035208064, 0.09045241743626618, 0.26413616528279626, 0.21596543605189117, 0.2633333197956145, 0.19361956999199909, 0.06288956316257054, 0.9968845065051052, 0.9984619268897522, 0.9975790090544936, 0.5040342277777542, 0.3149694514884894, 0.1803387096912987, 0.9984414236459825, 0.3975504318655734, 0.0785973430346478, 0.4772633500916807, 0.037523892803638305, 0.009026017458172457, 0.9986610771657356, 0.9996463602305129, 0.6624590008893535, 0.3373445066067323, 0.05033390842889121, 0.948533826082381, 0.12218542792870375, 0.38135784393899463, 0.4962876051260889, 0.9988737844845614, 0.24677954633717283, 0.47730220556385994, 0.19692509253168336, 0.02492722690274473, 0.0539728652068125, 0.9995638138983503, 0.9996390074027113, 0.999553280079322, 0.998796419331892, 0.22956924429054987, 0.053586454900711906, 0.1485806249519739, 0.44787315431220004, 0.12056952352660179, 0.9995701668579745, 0.5065711863646086, 0.2609176046234143, 0.08112227891337091, 0.05391001340049949, 0.09741533704607755, 0.9995995802236498, 0.03647535341790488, 0.8869270146880028, 0.07631027886114311, 0.9992897305370287, 0.9987143100040854, 0.9982809550558703, 0.9991077212005766, 0.9990063996467189, 0.9980647724152332, 0.9974364073083615, 0.9989414884740005, 0.999013895111045, 0.0005178921177351192, 0.9981399366769635, 0.363949856350364, 0.3314356040539338, 0.13128066384203813, 0.0751673574594892, 0.09824198812147193, 0.9989154001758731, 0.5560948497244791, 0.19837174176765035, 0.12403683633603631, 0.10245573475911611, 0.01896521047668745, 0.9995118898110606, 0.842041678126468, 0.15775308349452316], \"Term\": [\"accretion\", \"adversarial\", \"affine\", \"algebra\", \"algebraic\", \"algebras\", \"algorithm\", \"algorithm\", \"also\", \"also\", \"also\", \"also\", \"also\", \"analysis\", \"analysis\", \"analysis\", \"analysis\", \"approach\", \"approach\", \"approach\", \"approach\", \"approximate\", \"approximate\", \"architecture\", \"art\", \"atom\", \"atomic\", \"attack\", \"band\", \"base\", \"base\", \"base\", \"base\", \"base\", \"bayesian\", \"beam\", \"beta\", \"bit\", \"body\", \"c\", \"c\", \"calculation\", \"calculation\", \"case\", \"case\", \"case\", \"case\", \"cell\", \"challenge\", \"challenge\", \"challenge\", \"challenge\", \"charge\", \"class\", \"class\", \"class\", \"classification\", \"classification\", \"classifier\", \"cluster\", \"cluster\", \"cluster\", \"cluster\", \"cnn\", \"community\", \"compress\", \"conjecture\", \"consider\", \"consider\", \"consider\", \"consider\", \"consider\", \"contact\", \"convergence\", \"convolutional\", \"cosmic\", \"couple\", \"coupling\", \"covariance\", \"curvature\", \"dark\", \"dataset\", \"datum\", \"datum\", \"datum\", \"deep\", \"deep\", \"delta\", \"descent\", \"detection\", \"detection\", \"dielectric\", \"different\", \"different\", \"different\", \"different\", \"different\", \"disk\", \"disk\", \"disorder\", \"dispersion\", \"distribution\", \"distribution\", \"dynamic\", \"dynamic\", \"dynamic\", \"dynamical\", \"e\", \"e\", \"e\", \"e\", \"e\", \"effect\", \"effect\", \"effect\", \"effect\", \"electric\", \"electron\", \"electronic\", \"electronic\", \"emission\", \"energy\", \"energy\", \"equation\", \"equation\", \"equation\", \"error\", \"error\", \"estimate\", \"estimate\", \"estimate\", \"estimate\", \"estimation\", \"estimator\", \"excitation\", \"f\", \"f\", \"feature\", \"feature\", \"feature\", \"field\", \"field\", \"field\", \"field\", \"film\", \"find\", \"find\", \"find\", \"find\", \"find\", \"finite\", \"finite\", \"finite\", \"flow\", \"flow\", \"flow\", \"fluid\", \"force\", \"formation\", \"formation\", \"formula\", \"frac\", \"frequency\", \"frequency\", \"frequency\", \"function\", \"function\", \"function\", \"function\", \"function\", \"g\", \"g\", \"g\", \"galaxy\", \"gas\", \"gas\", \"gaussian\", \"geq\", \"give\", \"give\", \"give\", \"give\", \"give\", \"gradient\", \"gradient\", \"graph\", \"graph\", \"gravitational\", \"gravity\", \"group\", \"group\", \"growth\", \"growth\", \"growth\", \"guarantee\", \"h\", \"h\", \"heat\", \"high\", \"high\", \"high\", \"high\", \"high\", \"hole\", \"human\", \"image\", \"image\", \"image\", \"induce\", \"induce\", \"induce\", \"induce\", \"information\", \"information\", \"information\", \"infty\", \"integrable\", \"interaction\", \"interaction\", \"invariant\", \"invariant\", \"iteration\", \"k\", \"k\", \"l\", \"l\", \"label\", \"laplacian\", \"large\", \"large\", \"large\", \"large\", \"large\", \"laser\", \"lasso\", \"latent\", \"learn\", \"learning\", \"let\", \"light\", \"light\", \"light\", \"likelihood\", \"line\", \"line\", \"line\", \"line\", \"line\", \"linear\", \"linear\", \"linear\", \"linear\", \"liquid\", \"log\", \"low\", \"low\", \"low\", \"low\", \"low\", \"machine\", \"magnetic\", \"magnetic\", \"manifold\", \"markov\", \"mass\", \"material\", \"material\", \"mathbb\", \"mathbf\", \"mathcal\", \"mathfrak\", \"matrix\", \"matrix\", \"matter\", \"matter\", \"measurement\", \"measurement\", \"measurement\", \"measurement\", \"message\", \"metal\", \"method\", \"method\", \"method\", \"minimization\", \"mode\", \"mode\", \"mode\", \"model\", \"model\", \"model\", \"model\", \"molecule\", \"multivariate\", \"n\", \"n\", \"network\", \"neural\", \"new\", \"new\", \"new\", \"new\", \"new\", \"noise\", \"noise\", \"noise\", \"non\", \"non\", \"non\", \"non\", \"non\", \"nonparametric\", \"number\", \"number\", \"number\", \"number\", \"number\", \"observation\", \"observation\", \"observation\", \"observation\", \"observe\", \"observe\", \"observe\", \"observe\", \"omega\", \"operator\", \"operator\", \"optical\", \"optimal\", \"optimization\", \"optimization\", \"order\", \"order\", \"order\", \"order\", \"order\", \"p\", \"p\", \"paper\", \"paper\", \"paper\", \"paper\", \"parameter\", \"parameter\", \"parameter\", \"parameter\", \"parameter\", \"parametric\", \"particle\", \"particle\", \"peak\", \"performance\", \"performance\", \"phase\", \"phase\", \"photon\", \"planet\", \"pm\", \"pm\", \"polynomial\", \"polynomial\", \"posterior\", \"potential\", \"potential\", \"potential\", \"potential\", \"potential\", \"prediction\", \"prediction\", \"prediction\", \"present\", \"present\", \"present\", \"present\", \"present\", \"prime\", \"probability\", \"probability\", \"probe\", \"problem\", \"problem\", \"problem\", \"proof\", \"proof\", \"property\", \"property\", \"property\", \"property\", \"property\", \"propose\", \"propose\", \"propose\", \"protein\", \"prove\", \"prove\", \"prove\", \"provide\", \"provide\", \"provide\", \"provide\", \"provide\", \"q\", \"quality\", \"quality\", \"quantum\", \"quantum\", \"r\", \"r\", \"random\", \"random\", \"random\", \"random\", \"rate\", \"rate\", \"rate\", \"rate\", \"ray\", \"reaction\", \"recovery\", \"regime\", \"regime\", \"regime\", \"region\", \"region\", \"region\", \"region\", \"regression\", \"regression\", \"regret\", \"regularity\", \"regularization\", \"regularization\", \"regularize\", \"research\", \"research\", \"resonance\", \"result\", \"result\", \"result\", \"result\", \"result\", \"riemannian\", \"rm\", \"rm\", \"robot\", \"sample\", \"sample\", \"sample\", \"scale\", \"scale\", \"scale\", \"scale\", \"scatter\", \"scheme\", \"scheme\", \"scheme\", \"scheme\", \"semantic\", \"sensor\", \"set\", \"set\", \"set\", \"set\", \"show\", \"show\", \"show\", \"show\", \"show\", \"sim\", \"social\", \"software\", \"solar\", \"solid\", \"solve\", \"solve\", \"source\", \"source\", \"source\", \"space\", \"space\", \"space\", \"space\", \"space\", \"sparse\", \"sparse\", \"spectroscopy\", \"spin\", \"star\", \"state\", \"state\", \"state\", \"state\", \"stellar\", \"stochastic\", \"stress\", \"structure\", \"structure\", \"structure\", \"structure\", \"structure\", \"study\", \"study\", \"study\", \"study\", \"study\", \"subgroup\", \"superconducte\", \"superconductor\", \"surface\", \"surface\", \"surface\", \"synchronization\", \"system\", \"system\", \"system\", \"system\", \"system\", \"tail\", \"task\", \"temperature\", \"temperature\", \"theorem\", \"theorem\", \"theory\", \"theory\", \"theory\", \"theta\", \"time\", \"time\", \"time\", \"time\", \"time\", \"train\", \"training\", \"transition\", \"transport\", \"type\", \"type\", \"type\", \"type\", \"type\", \"u\", \"use\", \"use\", \"use\", \"use\", \"use\", \"user\", \"variable\", \"variable\", \"variable\", \"variance\", \"variational\", \"vertex\", \"video\", \"visual\", \"volatility\", \"voltage\", \"vortex\", \"wave\", \"wave\", \"wavelength\", \"well\", \"well\", \"well\", \"well\", \"well\", \"word\", \"work\", \"work\", \"work\", \"work\", \"work\", \"world\", \"x\", \"x\"]}, \"R\": 30, \"lambda.step\": 0.01, \"plot.opts\": {\"xlab\": \"PC1\", \"ylab\": \"PC2\"}, \"topic.order\": [2, 3, 4, 5, 1]};\n",
       "\n",
       "function LDAvis_load_lib(url, callback){\n",
       "  var s = document.createElement('script');\n",
       "  s.src = url;\n",
       "  s.async = true;\n",
       "  s.onreadystatechange = s.onload = callback;\n",
       "  s.onerror = function(){console.warn(\"failed to load library \" + url);};\n",
       "  document.getElementsByTagName(\"head\")[0].appendChild(s);\n",
       "}\n",
       "\n",
       "if(typeof(LDAvis) !== \"undefined\"){\n",
       "   // already loaded: just create the visualization\n",
       "   !function(LDAvis){\n",
       "       new LDAvis(\"#\" + \"ldavis_el231405197454096961697366598\", ldavis_el231405197454096961697366598_data);\n",
       "   }(LDAvis);\n",
       "}else if(typeof define === \"function\" && define.amd){\n",
       "   // require.js is available: use it to load d3/LDAvis\n",
       "   require.config({paths: {d3: \"https://d3js.org/d3.v5\"}});\n",
       "   require([\"d3\"], function(d3){\n",
       "      window.d3 = d3;\n",
       "      LDAvis_load_lib(\"https://cdn.jsdelivr.net/gh/bmabey/pyLDAvis@3.2.2/pyLDAvis/js/ldavis.v3.0.0.js\", function(){\n",
       "        new LDAvis(\"#\" + \"ldavis_el231405197454096961697366598\", ldavis_el231405197454096961697366598_data);\n",
       "      });\n",
       "    });\n",
       "}else{\n",
       "    // require.js not available: dynamically load d3 & LDAvis\n",
       "    LDAvis_load_lib(\"https://d3js.org/d3.v5.js\", function(){\n",
       "         LDAvis_load_lib(\"https://cdn.jsdelivr.net/gh/bmabey/pyLDAvis@3.2.2/pyLDAvis/js/ldavis.v3.0.0.js\", function(){\n",
       "                 new LDAvis(\"#\" + \"ldavis_el231405197454096961697366598\", ldavis_el231405197454096961697366598_data);\n",
       "            })\n",
       "         });\n",
       "}\n",
       "</script>"
      ],
      "text/plain": [
       "PreparedData(topic_coordinates=              x         y  topics  cluster       Freq\n",
       "topic                                                \n",
       "1      0.040789 -0.186996       1        1  33.291961\n",
       "2     -0.065607 -0.103533       2        1  23.359806\n",
       "3      0.036277 -0.067807       3        1  16.591269\n",
       "4     -0.248395  0.168150       4        1  15.543753\n",
       "0      0.236937  0.190187       5        1  11.213211, topic_info=           Term          Freq         Total Category  logprob  loglift\n",
       "139     network  12830.000000  12830.000000  Default  30.0000  30.0000\n",
       "3     algorithm   8772.000000   8772.000000  Default  29.0000  29.0000\n",
       "876       learn   7686.000000   7686.000000  Default  28.0000  28.0000\n",
       "95      problem   9867.000000   9867.000000  Default  27.0000  27.0000\n",
       "77       method  11844.000000  11844.000000  Default  26.0000  26.0000\n",
       "...         ...           ...           ...      ...      ...      ...\n",
       "845           h    721.983422   1984.715006   Topic5  -5.7727   1.1768\n",
       "398       field    727.779685   4728.141798   Topic5  -5.7647   0.3168\n",
       "1165     source    714.160359   2022.267690   Topic5  -5.7836   1.1472\n",
       "79        model    725.415309  19942.789180   Topic5  -5.7680  -1.1258\n",
       "458       scale    717.216418   3734.050774   Topic5  -5.7793   0.5382\n",
       "\n",
       "[341 rows x 6 columns], token_table=      Topic      Freq         Term\n",
       "term                              \n",
       "5535      5  0.998754    accretion\n",
       "1235      1  0.999118  adversarial\n",
       "3482      4  0.998245       affine\n",
       "4108      4  0.999366      algebra\n",
       "682       4  0.998169    algebraic\n",
       "...     ...       ...          ...\n",
       "429       4  0.102456         work\n",
       "429       5  0.018965         work\n",
       "1637      1  0.999512        world\n",
       "335       4  0.842042            x\n",
       "335       5  0.157753            x\n",
       "\n",
       "[577 rows x 3 columns], R=30, lambda_step=0.01, plot_opts={'xlab': 'PC1', 'ylab': 'PC2'}, topic_order=[2, 3, 4, 5, 1])"
      ]
     },
     "execution_count": 28,
     "metadata": {},
     "output_type": "execute_result"
    }
   ],
   "source": [
    "pyLDAvis.enable_notebook()\n",
    "pyLDAvis.gensim.prepare(lda_model, corpus, id2word)"
   ]
  },
  {
   "cell_type": "code",
   "execution_count": 29,
   "id": "9a8c23f4",
   "metadata": {
    "execution": {
     "iopub.execute_input": "2023-08-02T09:07:02.004315Z",
     "iopub.status.busy": "2023-08-02T09:07:02.003244Z",
     "iopub.status.idle": "2023-08-02T09:07:31.997441Z",
     "shell.execute_reply": "2023-08-02T09:07:31.995169Z"
    },
    "papermill": {
     "duration": 30.01086,
     "end_time": "2023-08-02T09:07:31.999917",
     "exception": false,
     "start_time": "2023-08-02T09:07:01.989057",
     "status": "completed"
    },
    "tags": []
   },
   "outputs": [
    {
     "name": "stdout",
     "output_type": "stream",
     "text": [
      "Perplexity--> -7.9742387246489255\n",
      "\n",
      "coherence score--> 0.4665126734260737\n"
     ]
    }
   ],
   "source": [
    "print('Perplexity-->',lda_model.log_perplexity(corpus))\n",
    "\n",
    "from gensim.models import CoherenceModel\n",
    "co_model = CoherenceModel(model = lda_model,texts = bag_of_words,dictionary=id2word,coherence='c_v')\n",
    "co_lda = co_model.get_coherence()\n",
    "print(\"\\ncoherence score-->\",co_lda)"
   ]
  },
  {
   "cell_type": "code",
   "execution_count": 30,
   "id": "32446471",
   "metadata": {
    "execution": {
     "iopub.execute_input": "2023-08-02T09:07:32.026997Z",
     "iopub.status.busy": "2023-08-02T09:07:32.026062Z",
     "iopub.status.idle": "2023-08-02T09:07:32.033541Z",
     "shell.execute_reply": "2023-08-02T09:07:32.032564Z"
    },
    "papermill": {
     "duration": 0.023048,
     "end_time": "2023-08-02T09:07:32.035634",
     "exception": false,
     "start_time": "2023-08-02T09:07:32.012586",
     "status": "completed"
    },
    "tags": []
   },
   "outputs": [],
   "source": [
    "def cluster_topics(dictionary,corpus,texts,limit,start=5,step=3):\n",
    "    coherence_values=[]\n",
    "    model_list=[]\n",
    "    for no_topics in range(start,limit,step):\n",
    "        model = LDA(corpus=corpus,num_topics=no_topics,id2word=id2word)\n",
    "        model_list.append(model)\n",
    "        co_model = CoherenceModel(model = lda_model,texts = bag_of_words,dictionary=id2word,coherence='c_v')\n",
    "        coherence_values.append(co_model.get_coherence())\n",
    "    return model_list,coherence_values"
   ]
  },
  {
   "cell_type": "code",
   "execution_count": 31,
   "id": "9881b13e",
   "metadata": {
    "execution": {
     "iopub.execute_input": "2023-08-02T09:07:32.061043Z",
     "iopub.status.busy": "2023-08-02T09:07:32.060193Z",
     "iopub.status.idle": "2023-08-02T09:10:54.309734Z",
     "shell.execute_reply": "2023-08-02T09:10:54.308646Z"
    },
    "papermill": {
     "duration": 202.26534,
     "end_time": "2023-08-02T09:10:54.312700",
     "exception": false,
     "start_time": "2023-08-02T09:07:32.047360",
     "status": "completed"
    },
    "tags": []
   },
   "outputs": [],
   "source": [
    "model_list,coherence_values = cluster_topics(dictionary = id2word,corpus=corpus,texts =bag_of_words,start=15,limit=40,step=6)"
   ]
  },
  {
   "cell_type": "code",
   "execution_count": 32,
   "id": "324a5ac9",
   "metadata": {
    "execution": {
     "iopub.execute_input": "2023-08-02T09:10:54.339754Z",
     "iopub.status.busy": "2023-08-02T09:10:54.338785Z",
     "iopub.status.idle": "2023-08-02T09:10:54.614146Z",
     "shell.execute_reply": "2023-08-02T09:10:54.613199Z"
    },
    "papermill": {
     "duration": 0.290228,
     "end_time": "2023-08-02T09:10:54.616298",
     "exception": false,
     "start_time": "2023-08-02T09:10:54.326070",
     "status": "completed"
    },
    "tags": []
   },
   "outputs": [
    {
     "data": {
      "image/png": "[encoded data removed]",
      "text/plain": [
       "<Figure size 640x480 with 1 Axes>"
      ]
     },
     "metadata": {},
     "output_type": "display_data"
    }
   ],
   "source": [
    "limit=20;start=5;step=3\n",
    "x=range(start,limit,step)\n",
    "plt.plot(x,coherence_values)\n",
    "plt.xlabel('Num topics')\n",
    "plt.ylabel(\"coherence_scores\")\n",
    "plt.legend(('coherence_values'),loc='best')\n",
    "plt.show()"
   ]
  },
  {
   "cell_type": "code",
   "execution_count": null,
   "id": "75006af8",
   "metadata": {
    "papermill": {
     "duration": 0.012512,
     "end_time": "2023-08-02T09:10:54.641865",
     "exception": false,
     "start_time": "2023-08-02T09:10:54.629353",
     "status": "completed"
    },
    "tags": []
   },
   "outputs": [],
   "source": []
  }
 ],
 "metadata": {
  "kernelspec": {
   "display_name": "Python 3",
   "language": "python",
   "name": "python3"
  },
  "language_info": {
   "codemirror_mode": {
    "name": "ipython",
    "version": 3
   },
   "file_extension": ".py",
   "mimetype": "text/x-python",
   "name": "python",
   "nbconvert_exporter": "python",
   "pygments_lexer": "ipython3",
   "version": "3.10.12"
  },
  "papermill": {
   "default_parameters": {},
   "duration": 630.037718,
   "end_time": "2023-08-02T09:10:57.377346",
   "environment_variables": {},
   "exception": null,
   "input_path": "__notebook__.ipynb",
   "output_path": "__notebook__.ipynb",
   "parameters": {},
   "start_time": "2023-08-02T09:00:27.339628",
   "version": "2.4.0"
  }
 },
 "nbformat": 4,
 "nbformat_minor": 5
}
